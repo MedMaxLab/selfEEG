{
 "cells": [
  {
   "cell_type": "code",
   "execution_count": 1,
   "id": "61b78bbb-5950-4ac3-8344-d17cbac1b8d7",
   "metadata": {},
   "outputs": [],
   "source": [
    "import os\n",
    "import glob\n",
    "import time\n",
    "import timeit\n",
    "import math\n",
    "import random\n",
    "import numpy as np\n",
    "import pandas as pd\n",
    "import torch\n",
    "import sys\n",
    "sys.path.append(os.getcwd().split('/Notebooks')[0])\n",
    "from selfeeg import augmentation as aug"
   ]
  },
  {
   "cell_type": "code",
   "execution_count": 119,
   "id": "278f1ae3-6064-4582-af01-0dc4f9b598f4",
   "metadata": {},
   "outputs": [],
   "source": [
    "sup_torch= \"\"\"\n",
    "import sys\n",
    "import os\n",
    "sys.path.append(os.getcwd().split('/Notebooks')[0])\n",
    "from selfeeg import augmentation as aug\n",
    "import torch \n",
    "import random\n",
    "import numpy as np\n",
    "torch.manual_seed(1234)\n",
    "np.random.seed(1234)\n",
    "random.seed(1234)\n",
    "x = torch.randn(64,61,512)\n",
    "xaug = torch.clone(x)\n",
    "\"\"\"\n",
    "\n",
    "sup_torch_gpu= \"\"\"\n",
    "import sys\n",
    "import os\n",
    "sys.path.append(os.getcwd().split('/Notebooks')[0])\n",
    "from selfeeg import augmentation as aug\n",
    "import torch \n",
    "import random\n",
    "import numpy as np\n",
    "torch.manual_seed(1234)\n",
    "np.random.seed(1234)\n",
    "random.seed(1234)\n",
    "device = torch.device('mps') if torch.backends.mps.is_available() else torch.device('cpu') \n",
    "if device.type == 'cpu':\n",
    "    device= torch.device('cuda') if torch.cuda.is_available() else torch.device('cpu') \n",
    "x = torch.randn(64,61,512).to(device=device)\n",
    "xaug = torch.clone(x)\n",
    "\"\"\"\n",
    "\n",
    "sup_np= \"\"\"\n",
    "import sys\n",
    "import os\n",
    "sys.path.append(os.getcwd().split('/Notebooks')[0])\n",
    "from selfeeg import augmentation as aug\n",
    "import torch \n",
    "import random\n",
    "import numpy as np\n",
    "torch.manual_seed(1234)\n",
    "np.random.seed(1234)\n",
    "random.seed(1234)\n",
    "x = np.random.randn(64,61,512)\n",
    "xaug = np.copy(x)\n",
    "\"\"\""
   ]
  },
  {
   "cell_type": "code",
   "execution_count": null,
   "id": "c820a28c-2160-453d-bc6c-fcd6956bae76",
   "metadata": {},
   "outputs": [],
   "source": [
    "n = 1000\n",
    "aug_list = ['add_band_noise', 'add_eeg_artifact', 'add_gaussian_noise', 'add_noise_SNR',\n",
    "            'change_ref', 'channel_dropout', 'crop_and_resize', 'filter_bandpass',\n",
    "            'filter_bandstop','filter_highpass','filter_lowpass', 'flip_horizontal',\n",
    "            'flip_vertical', 'masking', 'moving_avg', 'permutation_signal',\n",
    "            'permute_channels_network', 'permute_channels', 'random_FT_phase', \n",
    "            'random_slope_scale', 'scaling','shift_frequency', 'shift_horizontal',\n",
    "            'shift_vertical','warp_signal' ]\n",
    "bench_dict = {i: [None]*6 for i in aug_list }"
   ]
  },
  {
   "cell_type": "code",
   "execution_count": 98,
   "id": "78d255ec-a1cd-42f8-9dbe-0c0de77437ec",
   "metadata": {},
   "outputs": [],
   "source": [
    "s =\"\"\"\n",
    "for i in range(10):\n",
    "    xaug = aug.add_band_noise(x, ['theta',(10,20),50], 128)   \n",
    "\"\"\"\n",
    "bench_dict['add_band_noise'][1] = timeit.timeit(s, sup_np, number=n)\n",
    "bench_dict['add_band_noise'][3] = timeit.timeit(s, sup_torch, number=n)\n",
    "bench_dict['add_band_noise'][5] = timeit.timeit(s, sup_torch_gpu, number=n)"
   ]
  },
  {
   "cell_type": "code",
   "execution_count": 99,
   "id": "81a25c67-28ec-4418-b0b9-28f980348026",
   "metadata": {},
   "outputs": [],
   "source": [
    "s_false=\"\"\"\n",
    "for i in range(10):\n",
    "    xaug = aug.add_eeg_artifact(x, 128 , batch_equal=False)   \n",
    "\"\"\"\n",
    "s_true=\"\"\"\n",
    "for i in range(10):\n",
    "    xaug = aug.add_eeg_artifact(x, 128 , batch_equal=True)   \n",
    "\"\"\"\n",
    "bench_dict['random_FT_phase'][0] = timeit.timeit(s_false, sup_np, number=n)\n",
    "bench_dict['random_FT_phase'][1] = timeit.timeit(s_true, sup_np, number=n)\n",
    "bench_dict['random_FT_phase'][2] = timeit.timeit(s_false, sup_torch, number=n)\n",
    "bench_dict['random_FT_phase'][3] = timeit.timeit(s_true, sup_torch, number=n)\n",
    "bench_dict['random_FT_phase'][4] = timeit.timeit(s_false, sup_torch_gpu, number=n)\n",
    "bench_dict['random_FT_phase'][5] = timeit.timeit(s_true, sup_torch_gpu, number=n)"
   ]
  },
  {
   "cell_type": "code",
   "execution_count": 100,
   "id": "8f720355-da43-46d1-bebd-d259efacd2c2",
   "metadata": {},
   "outputs": [],
   "source": [
    "s=\"\"\"\n",
    "for i in range(10):\n",
    "    xaug = aug.add_noise_SNR(x)   \n",
    "\"\"\"\n",
    "bench_dict['add_noise_SNR'][1] = timeit.timeit(s, sup_np, number=n)\n",
    "bench_dict['add_noise_SNR'][3] = timeit.timeit(s, sup_torch, number=n)\n",
    "bench_dict['add_noise_SNR'][5] = timeit.timeit(s, sup_torch_gpu, number=n)"
   ]
  },
  {
   "cell_type": "code",
   "execution_count": 101,
   "id": "66e1e72f-db59-43c8-b6e5-8ffc0d676f29",
   "metadata": {},
   "outputs": [],
   "source": [
    "s=\"\"\"\n",
    "for i in range(10):\n",
    "    xaug = aug.change_ref(x)   \n",
    "\"\"\"\n",
    "bench_dict['change_ref'][1] = timeit.timeit(s, sup_np, number=n)\n",
    "bench_dict['change_ref'][3] = timeit.timeit(s, sup_torch, number=n)\n",
    "bench_dict['change_ref'][5] = timeit.timeit(s, sup_torch_gpu, number=n)"
   ]
  },
  {
   "cell_type": "code",
   "execution_count": 102,
   "id": "861527ba-460c-4def-8488-da7bfed0c77b",
   "metadata": {},
   "outputs": [],
   "source": [
    "s_false=\"\"\"\n",
    "for i in range(10):\n",
    "    xaug = aug.channel_dropout(x, 8 , batch_equal=False)   \n",
    "\"\"\"\n",
    "s_true=\"\"\"\n",
    "for i in range(10):\n",
    "    xaug = aug.channel_dropout(x, 8 , batch_equal=True)   \n",
    "\"\"\"\n",
    "bench_dict['random_FT_phase'][0] = timeit.timeit(s_false, sup_np, number=n)\n",
    "bench_dict['random_FT_phase'][1] = timeit.timeit(s_true, sup_np, number=n)\n",
    "bench_dict['random_FT_phase'][2] = timeit.timeit(s_false, sup_torch, number=n)\n",
    "bench_dict['random_FT_phase'][3] = timeit.timeit(s_true, sup_torch, number=n)\n",
    "bench_dict['random_FT_phase'][4] = timeit.timeit(s_false, sup_torch_gpu, number=n)\n",
    "bench_dict['random_FT_phase'][5] = timeit.timeit(s_true, sup_torch_gpu, number=n)"
   ]
  },
  {
   "cell_type": "code",
   "execution_count": 103,
   "id": "487af2af-1962-45a7-9e64-57b2be5421ab",
   "metadata": {},
   "outputs": [],
   "source": [
    "s_false=\"\"\"\n",
    "for i in range(10):\n",
    "    xaug = aug.crop_and_resize(x, 10 , 2, batch_equal=False)   \n",
    "\"\"\"\n",
    "s_true=\"\"\"\n",
    "for i in range(10):\n",
    "    xaug = aug.crop_and_resize(x, 10, 2, batch_equal=True)   \n",
    "\"\"\"\n",
    "bench_dict['random_FT_phase'][0] = timeit.timeit(s_false, sup_np, number=n)\n",
    "bench_dict['random_FT_phase'][1] = timeit.timeit(s_true, sup_np, number=n)\n",
    "bench_dict['random_FT_phase'][2] = timeit.timeit(s_false, sup_torch, number=n)\n",
    "bench_dict['random_FT_phase'][3] = timeit.timeit(s_true, sup_torch, number=n)\n",
    "bench_dict['random_FT_phase'][4] = timeit.timeit(s_false, sup_torch_gpu, number=n)\n",
    "bench_dict['random_FT_phase'][5] = timeit.timeit(s_true, sup_torch_gpu, number=n)"
   ]
  },
  {
   "cell_type": "code",
   "execution_count": 104,
   "id": "9a32a18d-3def-4254-b738-0abbf13cf927",
   "metadata": {},
   "outputs": [],
   "source": [
    "s=\"\"\"\n",
    "for i in range(10):\n",
    "    xaug = aug.filter_bandpass(x, 128)   \n",
    "\"\"\"\n",
    "bench_dict['filter_bandpass'][1] = timeit.timeit(s, sup_np, number=n)\n",
    "bench_dict['filter_bandpass'][3] = timeit.timeit(s, sup_torch, number=n)\n",
    "bench_dict['filter_bandpass'][5] = timeit.timeit(s, sup_torch_gpu, number=n)"
   ]
  },
  {
   "cell_type": "code",
   "execution_count": 105,
   "id": "5710a8dd-5799-4ff4-9ee7-f8154f979e97",
   "metadata": {},
   "outputs": [],
   "source": [
    "s=\"\"\"\n",
    "for i in range(10):\n",
    "    xaug = aug.filter_bandstop(x, 128)   \n",
    "\"\"\"\n",
    "bench_dict['filter_bandstop'][1] = timeit.timeit(s, sup_np, number=n)\n",
    "bench_dict['filter_bandstop'][3] = timeit.timeit(s, sup_torch, number=n)\n",
    "bench_dict['filter_bandstop'][5] = timeit.timeit(s, sup_torch_gpu, number=n)"
   ]
  },
  {
   "cell_type": "code",
   "execution_count": 106,
   "id": "3256a950-4610-4dc5-95b5-775fed56e61e",
   "metadata": {},
   "outputs": [],
   "source": [
    "s=\"\"\"\n",
    "for i in range(10):\n",
    "    xaug = aug.filter_highpass(x, 128)   \n",
    "\"\"\"\n",
    "bench_dict['filter_highpass'][1] = timeit.timeit(s, sup_np, number=n)\n",
    "bench_dict['filter_highpass'][3] = timeit.timeit(s, sup_torch, number=n)\n",
    "bench_dict['filter_highpass'][5] = timeit.timeit(s, sup_torch_gpu, number=n)"
   ]
  },
  {
   "cell_type": "code",
   "execution_count": null,
   "id": "ccf67b93-5f7c-459e-b3f1-62b389564bbf",
   "metadata": {},
   "outputs": [],
   "source": [
    "s=\"\"\"\n",
    "for i in range(10):\n",
    "    xaug = aug.filter_lowpass(x, 128)   \n",
    "\"\"\"\n",
    "bench_dict['filter_lowpass'][1] = timeit.timeit(s, sup_np, number=n)\n",
    "bench_dict['filter_lowpass'][3] = timeit.timeit(s, sup_torch, number=n)\n",
    "bench_dict['filter_lowpass'][5] = timeit.timeit(s, sup_torch_gpu, number=n)"
   ]
  },
  {
   "cell_type": "code",
   "execution_count": 109,
   "id": "175fac57-4edd-4958-ae96-52234e60eea4",
   "metadata": {},
   "outputs": [],
   "source": [
    "s=\"\"\"\n",
    "for i in range(10):\n",
    "    xaug = aug.flip_horizontal(x)   \n",
    "\"\"\"\n",
    "bench_dict['flip_horizontal'][1] = timeit.timeit(s, sup_np, number=n)\n",
    "bench_dict['flip_horizontal'][3] = timeit.timeit(s, sup_torch, number=n)\n",
    "bench_dict['flip_horizontal'][5] = timeit.timeit(s, sup_torch_gpu, number=n)"
   ]
  },
  {
   "cell_type": "code",
   "execution_count": 111,
   "id": "a4c0ba15-e1a7-4df9-a6cb-42dd135c1bb4",
   "metadata": {},
   "outputs": [],
   "source": [
    "s=\"\"\"\n",
    "for i in range(10):\n",
    "    xaug = aug.flip_vertical(x)   \n",
    "\"\"\"\n",
    "bench_dict['flip_vertical'][1] = timeit.timeit(s, sup_np, number=n)\n",
    "bench_dict['flip_vertical'][3] = timeit.timeit(s, sup_torch, number=n)\n",
    "bench_dict['flip_vertical'][5] = timeit.timeit(s, sup_torch_gpu, number=n)"
   ]
  },
  {
   "cell_type": "code",
   "execution_count": 113,
   "id": "8100a5ba-2ccc-40c2-ba20-ce14f487ba14",
   "metadata": {},
   "outputs": [],
   "source": [
    "s_false=\"\"\"\n",
    "for i in range(10):\n",
    "    xaug = aug.masking(x, 4 , 0.4, batch_equal=False)   \n",
    "\"\"\"\n",
    "s_true=\"\"\"\n",
    "for i in range(10):\n",
    "    xaug = aug.masking(x, 4, 0.4 , batch_equal=True)   \n",
    "\"\"\"\n",
    "bench_dict['random_FT_phase'][0] = timeit.timeit(s_false, sup_np, number=n)\n",
    "bench_dict['random_FT_phase'][1] = timeit.timeit(s_true, sup_np, number=n)\n",
    "bench_dict['random_FT_phase'][2] = timeit.timeit(s_false, sup_torch, number=n)\n",
    "bench_dict['random_FT_phase'][3] = timeit.timeit(s_true, sup_torch, number=n)\n",
    "bench_dict['random_FT_phase'][4] = timeit.timeit(s_false, sup_torch_gpu, number=n)\n",
    "bench_dict['random_FT_phase'][5] = timeit.timeit(s_true, sup_torch_gpu, number=n)"
   ]
  },
  {
   "cell_type": "code",
   "execution_count": 115,
   "id": "79b7bd5e-ce42-47ef-952a-dc8e96d020a7",
   "metadata": {},
   "outputs": [],
   "source": [
    "s=\"\"\"\n",
    "for i in range(10):\n",
    "    xaug = aug.moving_avg(x)   \n",
    "\"\"\"\n",
    "bench_dict['moving_avg'][1] = timeit.timeit(s, sup_np, number=n)\n",
    "bench_dict['moving_avg'][3] = timeit.timeit(s, sup_torch, number=n)\n",
    "bench_dict['moving_avg'][5] = timeit.timeit(s, sup_torch_gpu, number=n)"
   ]
  },
  {
   "cell_type": "code",
   "execution_count": 117,
   "id": "8441da8e-2457-4ef6-8da0-0933f5bbebba",
   "metadata": {},
   "outputs": [],
   "source": [
    "s_false=\"\"\"\n",
    "for i in range(10):\n",
    "    xaug = aug.permutation_signal(x, 15 , 5, batch_equal=False)   \n",
    "\"\"\"\n",
    "s_true=\"\"\"\n",
    "for i in range(10):\n",
    "    xaug = aug.permutation_signal(x, 15, 5 , batch_equal=True)   \n",
    "\"\"\"\n",
    "bench_dict['random_FT_phase'][0] = timeit.timeit(s_false, sup_np, number=n)\n",
    "bench_dict['random_FT_phase'][1] = timeit.timeit(s_true, sup_np, number=n)\n",
    "bench_dict['random_FT_phase'][2] = timeit.timeit(s_false, sup_torch, number=n)\n",
    "bench_dict['random_FT_phase'][3] = timeit.timeit(s_true, sup_torch, number=n)\n",
    "bench_dict['random_FT_phase'][4] = timeit.timeit(s_false, sup_torch_gpu, number=n)\n",
    "bench_dict['random_FT_phase'][5] = timeit.timeit(s_true, sup_torch_gpu, number=n)"
   ]
  },
  {
   "cell_type": "code",
   "execution_count": 120,
   "id": "004322e6-d6ee-477d-a5dd-9f9f7aa32310",
   "metadata": {},
   "outputs": [],
   "source": [
    "s_false=\"\"\"\n",
    "for i in range(10):\n",
    "    xaug = aug.permute_channels(x, 35 , 'network', batch_equal=False)   \n",
    "\"\"\"\n",
    "s_true=\"\"\"\n",
    "for i in range(10):\n",
    "    xaug = aug.permute_channels(x, 35 , 'network' , batch_equal=True)   \n",
    "\"\"\"\n",
    "bench_dict['random_FT_phase'][0] = timeit.timeit(s_false, sup_np, number=n)\n",
    "bench_dict['random_FT_phase'][1] = timeit.timeit(s_true, sup_np, number=n)\n",
    "bench_dict['random_FT_phase'][2] = timeit.timeit(s_false, sup_torch, number=n)\n",
    "bench_dict['random_FT_phase'][3] = timeit.timeit(s_true, sup_torch, number=n)\n",
    "bench_dict['random_FT_phase'][4] = timeit.timeit(s_false, sup_torch_gpu, number=n)\n",
    "bench_dict['random_FT_phase'][5] = timeit.timeit(s_true, sup_torch_gpu, number=n)"
   ]
  },
  {
   "cell_type": "code",
   "execution_count": 125,
   "id": "03509690-dd58-422b-a2b8-6f6741a63877",
   "metadata": {},
   "outputs": [],
   "source": [
    "s_false=\"\"\"\n",
    "for i in range(10):\n",
    "    xaug = aug.permute_channels(x, 35, batch_equal=False)   \n",
    "\"\"\"\n",
    "s_true=\"\"\"\n",
    "for i in range(10):\n",
    "    xaug = aug.permute_channels(x, 35, batch_equal=True)   \n",
    "\"\"\"\n",
    "bench_dict['random_FT_phase'][0] = timeit.timeit(s_false, sup_np, number=n)\n",
    "bench_dict['random_FT_phase'][1] = timeit.timeit(s_true, sup_np, number=n)\n",
    "bench_dict['random_FT_phase'][2] = timeit.timeit(s_false, sup_torch, number=n)\n",
    "bench_dict['random_FT_phase'][3] = timeit.timeit(s_true, sup_torch, number=n)\n",
    "bench_dict['random_FT_phase'][4] = timeit.timeit(s_false, sup_torch_gpu, number=n)\n",
    "bench_dict['random_FT_phase'][5] = timeit.timeit(s_true, sup_torch_gpu, number=n)"
   ]
  },
  {
   "cell_type": "code",
   "execution_count": 131,
   "id": "4dfaf2db-c454-41ad-a37e-249185adcb1d",
   "metadata": {},
   "outputs": [],
   "source": [
    "s_false=\"\"\"\n",
    "for i in range(10):\n",
    "    xaug = aug.random_FT_phase(x, 0.2, batch_equal=False)   \n",
    "\"\"\"\n",
    "s_true=\"\"\"\n",
    "for i in range(10):\n",
    "    xaug = aug.random_FT_phase(x, 0.2, batch_equal=True)   \n",
    "\"\"\"\n",
    "bench_dict['random_FT_phase'][0] = timeit.timeit(s_false, sup_np, number=n)\n",
    "bench_dict['random_FT_phase'][1] = timeit.timeit(s_true, sup_np, number=n)\n",
    "bench_dict['random_FT_phase'][2] = timeit.timeit(s_false, sup_torch, number=n)\n",
    "bench_dict['random_FT_phase'][3] = timeit.timeit(s_true, sup_torch, number=n)\n",
    "bench_dict['random_FT_phase'][4] = timeit.timeit(s_false, sup_torch_gpu, number=n)\n",
    "bench_dict['random_FT_phase'][5] = timeit.timeit(s_true, sup_torch_gpu, number=n)"
   ]
  },
  {
   "cell_type": "code",
   "execution_count": 133,
   "id": "e74de64b-8cf0-4bff-a36b-2a8d3cebea58",
   "metadata": {},
   "outputs": [],
   "source": [
    "s_false=\"\"\"\n",
    "for i in range(10):\n",
    "    xaug = aug.random_slope_scale(x, batch_equal=False)   \n",
    "\"\"\"\n",
    "s_true=\"\"\"\n",
    "for i in range(10):\n",
    "    xaug = aug.random_slope_scale(x, batch_equal=True)   \n",
    "\"\"\"\n",
    "bench_dict['random_slope_scale'][0] = timeit.timeit(s_false, sup_np, number=n)\n",
    "bench_dict['random_slope_scale'][1] = timeit.timeit(s_true, sup_np, number=n)\n",
    "bench_dict['random_slope_scale'][2] = timeit.timeit(s_false, sup_torch, number=n)\n",
    "bench_dict['random_slope_scale'][3] = timeit.timeit(s_true, sup_torch, number=n)\n",
    "bench_dict['random_slope_scale'][4] = timeit.timeit(s_false, sup_torch_gpu, number=n)\n",
    "bench_dict['random_slope_scale'][5] = timeit.timeit(s_true, sup_torch_gpu, number=n)"
   ]
  },
  {
   "cell_type": "code",
   "execution_count": 135,
   "id": "97e5cd9c-2a93-4dc7-aa18-6dced7aa053b",
   "metadata": {},
   "outputs": [],
   "source": [
    "s_false=\"\"\"\n",
    "for i in range(10):\n",
    "    xaug = aug.scaling(x, batch_equal=False)   \n",
    "\"\"\"\n",
    "s_true=\"\"\"\n",
    "for i in range(10):\n",
    "    xaug = aug.scaling(x, batch_equal=True)   \n",
    "\"\"\"\n",
    "bench_dict['scaling'][0] = timeit.timeit(s_false, sup_np, number=n)\n",
    "bench_dict['scaling'][1] = timeit.timeit(s_true, sup_np, number=n)\n",
    "bench_dict['scaling'][2] = timeit.timeit(s_false, sup_torch, number=n)\n",
    "bench_dict['scaling'][3] = timeit.timeit(s_true, sup_torch, number=n)\n",
    "bench_dict['scaling'][4] = timeit.timeit(s_false, sup_torch_gpu, number=n)\n",
    "bench_dict['scaling'][5] = timeit.timeit(s_true, sup_torch_gpu, number=n)"
   ]
  },
  {
   "cell_type": "code",
   "execution_count": 137,
   "id": "dafbcc32-9921-4933-bbcc-83f1efb100a0",
   "metadata": {},
   "outputs": [],
   "source": [
    "s_false=\"\"\"\n",
    "for i in range(10):\n",
    "    xaug = aug.shift_frequency(x, 4,128, batch_equal=False)   \n",
    "\"\"\"\n",
    "s_true=\"\"\"\n",
    "for i in range(10):\n",
    "    xaug = aug.shift_frequency(x, 4, 128, batch_equal=True)   \n",
    "\"\"\"\n",
    "bench_dict['shift_frequency'][0] = timeit.timeit(s_false, sup_np, number=n)\n",
    "bench_dict['shift_frequency'][1] = timeit.timeit(s_true, sup_np, number=n)\n",
    "bench_dict['shift_frequency'][2] = timeit.timeit(s_false, sup_torch, number=n)\n",
    "bench_dict['shift_frequency'][3] = timeit.timeit(s_true, sup_torch, number=n)\n",
    "bench_dict['shift_frequency'][4] = timeit.timeit(s_false, sup_torch_gpu, number=n)\n",
    "bench_dict['shift_frequency'][5] = timeit.timeit(s_true, sup_torch_gpu, number=n)"
   ]
  },
  {
   "cell_type": "code",
   "execution_count": 144,
   "id": "9bbd08ec-824e-4869-b460-4c7a0fd15f8f",
   "metadata": {},
   "outputs": [],
   "source": [
    "s_false=\"\"\"\n",
    "for i in range(10):\n",
    "    xaug = aug.shift_horizontal(x, 0.2, 128, random_shift=True, batch_equal=False)   \n",
    "\"\"\"\n",
    "s_true=\"\"\"\n",
    "for i in range(10):\n",
    "    xaug = aug.shift_horizontal(x, 0.2 , 128, batch_equal=True)   \n",
    "\"\"\"\n",
    "bench_dict['shift_horizontal'][0] = timeit.timeit(s_false, sup_np, number=n)\n",
    "bench_dict['shift_horizontal'][1] = timeit.timeit(s_true, sup_np, number=n)\n",
    "bench_dict['shift_horizontal'][2] = timeit.timeit(s_false, sup_torch, number=n)\n",
    "bench_dict['shift_horizontal'][3] = timeit.timeit(s_true, sup_torch, number=n)\n",
    "bench_dict['shift_horizontal'][4] = timeit.timeit(s_false, sup_torch_gpu, number=n)\n",
    "bench_dict['shift_horizontal'][5] = timeit.timeit(s_true, sup_torch_gpu, number=n)"
   ]
  },
  {
   "cell_type": "code",
   "execution_count": 146,
   "id": "43570341-1a19-4d1f-a4a9-b70cf126d2bb",
   "metadata": {},
   "outputs": [],
   "source": [
    "s=\"\"\"\n",
    "for i in range(10):\n",
    "    xaug = aug.shift_vertical(x, 2)   \n",
    "\"\"\"\n",
    "bench_dict['shift_vertical'][1] = timeit.timeit(s, sup_np, number=n)\n",
    "bench_dict['shift_vertical'][3] = timeit.timeit(s, sup_torch, number=n)\n",
    "bench_dict['shift_vertical'][5] = timeit.timeit(s, sup_torch_gpu, number=n)"
   ]
  },
  {
   "cell_type": "code",
   "execution_count": 152,
   "id": "d81da3a8-e834-4fc6-92d9-504bf1bf9707",
   "metadata": {},
   "outputs": [],
   "source": [
    "s_false=\"\"\"\n",
    "for i in range(10):\n",
    "    xaug = aug.warp_signal(x, 16, batch_equal=False)   \n",
    "\"\"\"\n",
    "s_true=\"\"\"\n",
    "for i in range(10):\n",
    "    xaug = aug.warp_signal(x, 16, batch_equal=True)   \n",
    "\"\"\"\n",
    "bench_dict['warp_signal'][0] = timeit.timeit(s_false, sup_np, number=n)\n",
    "bench_dict['warp_signal'][1] = timeit.timeit(s_true, sup_np, number=n)\n",
    "bench_dict['warp_signal'][2] = timeit.timeit(s_false, sup_torch, number=n)\n",
    "bench_dict['warp_signal'][3] = timeit.timeit(s_true, sup_torch, number=n)\n",
    "bench_dict['warp_signal'][4] = timeit.timeit(s_false, sup_torch_gpu, number=n)\n",
    "bench_dict['warp_signal'][5] = timeit.timeit(s_true, sup_torch_gpu, number=n)"
   ]
  },
  {
   "cell_type": "code",
   "execution_count": 170,
   "id": "a890b659-19ee-4251-a055-c45bf22ff402",
   "metadata": {},
   "outputs": [],
   "source": [
    "Bench_Table = pd.DataFrame.from_dict(bench_dict,\n",
    "                                     orient='index',\n",
    "                                     columns=['Numpy Array no BE','Numpy Array BE',\n",
    "                                              'Torch Tensor no BE','Torch Tensor BE',\n",
    "                                              'Torch Tensor GPU no BE','Torch Tensor GPU BE']\n",
    "                                    )\n",
    "Bench_Table.to_csv('../extra_material/bench_table.csv')"
   ]
  }
 ],
 "metadata": {
  "kernelspec": {
   "display_name": "Python 3 (ipykernel)",
   "language": "python",
   "name": "python3"
  },
  "language_info": {
   "codemirror_mode": {
    "name": "ipython",
    "version": 3
   },
   "file_extension": ".py",
   "mimetype": "text/x-python",
   "name": "python",
   "nbconvert_exporter": "python",
   "pygments_lexer": "ipython3",
   "version": "3.11.6"
  }
 },
 "nbformat": 4,
 "nbformat_minor": 5
}
