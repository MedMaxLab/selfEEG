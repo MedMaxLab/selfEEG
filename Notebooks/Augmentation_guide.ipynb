{
 "cells": [
  {
   "cell_type": "markdown",
   "id": "8bdb80d3-737a-4306-8c46-3408f98851db",
   "metadata": {},
   "source": [
    "# Data Augmentations guide\n",
    "\n",
    "This section will explain how to combine different data augmentations and create custom\n",
    "augmenters to apply during the pretraining (but also during fine-tuning phase).\n",
    "\n",
    "Different use cases with increased complexity will be presented. \n",
    "\n",
    "We hope this will help users understand how to use this module."
   ]
  },
  {
   "cell_type": "markdown",
   "id": "3736b0c7-889a-45de-ad96-306a2a6d07c8",
   "metadata": {},
   "source": [
    "First, let's import the dataloading module and some other packages.\n",
    "\n",
    "<div class=\"alert alert-warning\">\n",
    "<b>WARNING:</b> to run this notebook you will also need <b>matplotlib</b>, which is not a main dependecy of the <b>selfeeg</b> library. Be sure to install it in your environment\n",
    "</div>"
   ]
  },
  {
   "cell_type": "code",
   "execution_count": null,
   "id": "31f8ad6a",
   "metadata": {},
   "outputs": [],
   "source": [
    "import os\n",
    "import sys\n",
    "import random\n",
    "sys.path.append('/'.join(os.getcwd().split('/')[:-1]))\n",
    "from selfeeg import augmentation as aug\n",
    "\n",
    "import torch\n",
    "import numpy as np\n",
    "import matplotlib.pyplot as plt\n",
    "# set seeds for reproducibility\n",
    "seed = 12\n",
    "random.seed( seed )\n",
    "np.random.seed( seed )\n",
    "torch.manual_seed( seed )\n",
    "plt.style.use('seaborn-v0_8-white')\n",
    "plt.rcParams['figure.figsize'] = (15.0, 6.0)"
   ]
  },
  {
   "cell_type": "markdown",
   "id": "06d4ca58",
   "metadata": {},
   "source": [
    "## functional submodule\n",
    "\n",
    "The augmentation module is divided in two submodules:\n",
    "\n",
    "1. the functional submodule, which gathers all the data augmentation functions.\n",
    "2. the compose submodule, which gathers all the classes designed to call and compose the data augmentations in various ways\n",
    "\n",
    "Note that all augmentation are compatible with pytorch tensors sent to the GPU, although some configurations may not improve the computational time as expected\n",
    "\n",
    "<div class=\"alert alert-info\">\n",
    "<b>NOTE 1:</b> the command \n",
    "<code>from selfeeg import augmentation</code>    \n",
    "will automatically import all functions and classes from the two submodules.\n",
    "</div>\n",
    "\n",
    "<div class=\"alert alert-info\">\n",
    "<b>NOTE 2:</b> most of the data augmentation functions have a `batch_equal` argument. This argument will let the user choose between an augmentation performed equally on all EEGs in the batch or not. To summarize, batch_equal set to True will make the computation faster but will reduce the variability, while batch_equal set to False will do the opposite  \n",
    "</div>"
   ]
  },
  {
   "cell_type": "markdown",
   "id": "3e30e9f5-a622-4346-9c62-83f8a2040828",
   "metadata": {},
   "source": [
    "here is a simple example of an augmentation with the ``add_eeg_artifact`` function"
   ]
  },
  {
   "cell_type": "code",
   "execution_count": null,
   "id": "a44ba87e-a8d2-478e-8f11-4992c7bb62d5",
   "metadata": {},
   "outputs": [],
   "source": [
    "# create a random EEG batch, 32 channels, 1024 samples, 128 Hz\n",
    "# all channels will have a sinusoid for better visualization\n",
    "Fs = 128\n",
    "BatchEEG = torch.zeros(16,32,1024) + torch.sin(torch.linspace(0, 8*np.pi,1024))\n",
    "\n",
    "# simple example\n",
    "BatchEEGaug = aug.add_eeg_artifact(BatchEEG, Fs, 'eye' , amplitude=0.5, batch_equal=False)\n",
    "\n",
    "plt.plot(BatchEEG[0,0],'r')\n",
    "plt.plot(BatchEEGaug[0,0])\n",
    "plt.tick_params(axis='both', which='major', labelsize=12)\n",
    "plt.title('Example of addition of EEG eye blink artifact', fontsize=15)\n",
    "plt.legend(['augmented sample', 'original sample'])\n",
    "plt.show()"
   ]
  },
  {
   "cell_type": "markdown",
   "id": "b2b7edbd",
   "metadata": {},
   "source": [
    "## Compose submodule\n",
    "\n",
    "With the compose submodule, it is possible to combine different augmentation functions in a highly customizable way. The module allows users to:\n",
    "\n",
    "1. Apply a specific augmentation with preset optional arguments\n",
    "2. Apply a specific augmentation with random selected optional arguments from a given range\n",
    "3. Apply a sequence of augmentations\n",
    "4. Apply an augmentation selected at random from a given list\n",
    "\n",
    "The combination of the previously listed functionalities allow users to construct more complex augmentation patterns, making this module valuable also for non-self-supervised learning applications.\n",
    "\n",
    "\n",
    "The following cells will present various use cases to use as a reference."
   ]
  },
  {
   "cell_type": "markdown",
   "id": "c003da7c-8c33-4568-9166-6990816fef83",
   "metadata": {},
   "source": [
    "## case 1: specific augmentation with preset optional arguments\n",
    "\n",
    "Suppose one wants to call a specific augmentation every time with the same optional arguments. This can be done in two simple ways:\n",
    "\n",
    "1. define a lambda function.\n",
    "2. create an instance of the ``StaticSingleAug`` class, which has an extra functionality explained in use case 2.\n",
    "\n",
    "Let's assume we want to call each time the ``add_egg_artifact`` use in the previous cell."
   ]
  },
  {
   "cell_type": "code",
   "execution_count": null,
   "id": "39489028",
   "metadata": {},
   "outputs": [],
   "source": [
    "# simple example\n",
    "Aug_eye = aug.StaticSingleAug(aug.add_eeg_artifact, \n",
    "                              {'Fs': Fs, 'artifact': 'eye', 'amplitude': 0.5, 'batch_equal': False}\n",
    "                             )\n",
    "BatchEEGaug = Aug_eye(BatchEEG)\n",
    "\n",
    "plt.plot(BatchEEG[0,0],'r')\n",
    "plt.plot(BatchEEGaug[0,0])\n",
    "plt.tick_params(axis='both', which='major', labelsize=12)\n",
    "plt.title('Example of addition of EEG eye blink artifact', fontsize=15)\n",
    "plt.legend(['augmented sample', 'original sample'])\n",
    "plt.show()\n",
    "    "
   ]
  },
  {
   "cell_type": "markdown",
   "id": "4eb17412-c073-4195-b0a8-6b8d4f8e8479",
   "metadata": {},
   "source": [
    "## case 2: specific augmentation with LIST of preset optional arguments\n",
    "\n",
    "As previously stated, ``StaticSingleAug`` has an extra functionality compared to lambda functions, which is its ability to handle multiple set of optional arguments. This is important in many contrastive learning arguments, since the data augmentation is performed twice (you may want to repeat couples of augmentations to fed to each branch of the siamese network, widely used in contrastive learning approaches). \n",
    "\n",
    "Let's assume we want to call each time the ``add_egg_artifact`` use in the previous cell, but this time we want also that the amplitude of such an artifact will be 0.5 in one call, and 1 in the second.\n",
    "\n",
    "To do that, we just need to give all sets of optional arguments in a list."
   ]
  },
  {
   "cell_type": "code",
   "execution_count": null,
   "id": "b028006b",
   "metadata": {},
   "outputs": [],
   "source": [
    "# simple example\n",
    "Aug_eye = aug.StaticSingleAug(aug.add_eeg_artifact, \n",
    "                              [{'Fs': Fs, 'artifact': 'eye', 'amplitude': 0.5, 'batch_equal': False},\n",
    "                               {'Fs': Fs, 'artifact': 'eye', 'amplitude': 1.0, 'batch_equal': False} #new set\n",
    "                              ]\n",
    "                             )\n",
    "BatchEEGaug1 = Aug_eye(BatchEEG)\n",
    "BatchEEGaug2 = Aug_eye(BatchEEG)\n",
    "\n",
    "plt.plot(BatchEEG[0,0],linewidth=2.5)\n",
    "plt.plot(BatchEEGaug1[0,0])\n",
    "plt.plot(BatchEEGaug2[0,0])\n",
    "plt.tick_params(axis='both', which='major', labelsize=12)\n",
    "plt.title('Example of addition of EEG eye blink artifact', fontsize=15)\n",
    "plt.legend(['original sample', 'augmented sample amp 0.5', 'augmented sample amp 1'])\n",
    "plt.show()\n",
    "    "
   ]
  },
  {
   "cell_type": "markdown",
   "id": "ce26e357",
   "metadata": {},
   "source": [
    "## case 3: specific augmentation with random extracted optional arguments from range\n",
    "\n",
    "If one wants to apply a specific augmentation where some optional arguments are selected randomly from a given range of continuous or discrete values, ``DynamicSingleAug`` is the right class to use. ``DynamicSingleAug`` requires some arguments to be set properly, but once it is initialized in the right way, it will make easier to produce augmented samples\n",
    "\n",
    "Let's assume we want to call the ``warp_signal`` augmentation with random parameters. This function provides the most complex case one will face with the implemented augmentations, since it accepts different types of inputs (bool, float, int). Check the function help to better understand each argument. \n",
    "\n",
    "<div class=\"alert alert-warning\">\n",
    "<b>WARNING:</b> the only thing you need to carefully check when instantiating a <code>DynamicSingleAug</code> is the type of the optional argument to extract. To assure compatibility with most of the operations, the class will extract only <b>integers</b> from the given range if a specific type is not given, but it is suggested to avoid resorting to such thing.\n",
    "</div>\n",
    "\n",
    "Now let's set a range of values from each argument of the augmentation."
   ]
  },
  {
   "cell_type": "code",
   "execution_count": null,
   "id": "0fe92ca6",
   "metadata": {},
   "outputs": [],
   "source": [
    "# simple example\n",
    "Aug_warp = aug.DynamicSingleAug(aug.warp_signal, \n",
    "                               discrete_arg = {'batch_equal': [True, False]}, #discrete args accepts single values if \n",
    "                                                                               #you want those to be static\n",
    "                               range_arg= {'segments': [5,15], 'stretch_strength': [1.2,1.5],\n",
    "                                           'squeeze_strength': [0.7,0.85]},\n",
    "                               range_type={'segments': True, 'stretch_strength': False,\n",
    "                                           'squeeze_strength': False} # true = int, false = float\n",
    "                             )\n",
    "BatchEEGaug1 = Aug_warp(BatchEEG)\n",
    "BatchEEGaug2 = Aug_warp(BatchEEG)\n",
    "\n",
    "plt.plot(BatchEEG[0,0],linewidth=2.5)\n",
    "plt.plot(BatchEEGaug1[0,0])\n",
    "plt.plot(BatchEEGaug2[0,0])\n",
    "plt.tick_params(axis='both', which='major', labelsize=12)\n",
    "plt.title('Example of dynamic aug with warp augmentation', fontsize=15)\n",
    "plt.legend(['original sample', 'augmented sample 1', 'augmented sample 2'])\n",
    "plt.show()"
   ]
  },
  {
   "cell_type": "markdown",
   "id": "e57547ad",
   "metadata": {},
   "source": [
    "## case 4: sequence of augmentations\n",
    "\n",
    "If one has defined different **single augmentations** but wants to combine them in a specific order, ``SequentialAug`` is the right class to use. ``SequentialAug`` only requires giving the augmentations as multiple arguments. The input order is used as the sequence order, so be sure to not make mistakes during the initialization.\n",
    "\n",
    "<div class=\"alert alert-warning\">\n",
    "<b>WARNING:</b> Be careful to not stack too many augmentations. Produce too different samples may have negative effects on the pretraining (and fine-tuning) phase.\n",
    "</div>\n",
    "\n",
    "Now let's compose the eye blink artifact and the random warp augmentations."
   ]
  },
  {
   "cell_type": "code",
   "execution_count": null,
   "id": "80f58518",
   "metadata": {},
   "outputs": [],
   "source": [
    "Sequence1= aug.SequentialAug(Aug_eye, Aug_warp)\n",
    "BatchEEGaug1 = Sequence1(BatchEEG)\n",
    "BatchEEGaug2 = Sequence1(BatchEEG)\n",
    "\n",
    "plt.plot(BatchEEG[0,0],linewidth=2.5)\n",
    "plt.plot(BatchEEGaug1[0,0])\n",
    "plt.plot(BatchEEGaug2[0,0])\n",
    "plt.tick_params(axis='both', which='major', labelsize=12)\n",
    "plt.title('Example of Sequential aug with eye blink artifact and warp augmentation', fontsize=15)\n",
    "plt.legend(['original sample', 'augmented sample 1', 'augmented sample 2'])\n",
    "plt.show()"
   ]
  },
  {
   "cell_type": "markdown",
   "id": "0d7080f9",
   "metadata": {},
   "source": [
    "## case 5: Random augmentation from list\n",
    "\n",
    "If one has defined different **single augmentations** but wants each time choose one at random (or with given probabilities), ``RandomAug`` is the right class to use. ``RandomAug`` only requires giving the augmentations as multiple arguments. It is also possible to assign a weight which will be used to set how frequently an augmentation will be selected. Make sure to give the probabilities in the same order as the augmentations.\n",
    "\n",
    "Now let's choose at random between the eye blink artifact and the random warp augmentation, with a 70\\% chance of picking the eye blinking."
   ]
  },
  {
   "cell_type": "code",
   "execution_count": null,
   "id": "9144a762",
   "metadata": {},
   "outputs": [],
   "source": [
    "Sequence2= aug.RandomAug(Aug_eye, Aug_warp, p=[0.7, 0.3])\n",
    "BatchEEGaug1 = Sequence2(BatchEEG)\n",
    "BatchEEGaug2 = Sequence2(BatchEEG)\n",
    "\n",
    "# simulate 10000 augmentations calls\n",
    "# this line is used in RandomAug to choose the index of the list of augmentations to call\n",
    "# note that we have added the size argument to make computation faster, in the class only 1 value\n",
    "# is returned\n",
    "idx=np.random.choice(Sequence2.nprange_, size= 1000, p=Sequence2.p)\n",
    "counts=[(1000-len(np.nonzero(idx)[0]))/1000, len(np.nonzero(idx)[0])/1000]\n",
    "\n",
    "plt.subplot(1,3,(1,2))\n",
    "plt.plot(BatchEEG[0,0],linewidth=2.5)\n",
    "plt.plot(BatchEEGaug1[0,0])\n",
    "plt.plot(BatchEEGaug2[0,0])\n",
    "plt.tick_params(axis='both', which='major', labelsize=12)\n",
    "plt.title('Example of Random aug between eye blinking artifact and warp', fontsize=15)\n",
    "plt.legend(['original sample', 'augmented sample 1', 'augmented sample 2'],loc='upper left')\n",
    "plt.subplot(1,3,3)\n",
    "plt.bar(['eye blinking', 'warp'],counts)\n",
    "plt.tick_params(axis='both', which='major', labelsize=12)\n",
    "plt.title('barplot of chosen augmentations', fontsize=15)\n",
    "plt.ylabel('probability',fontsize=12)\n",
    "plt.show()"
   ]
  },
  {
   "cell_type": "markdown",
   "id": "56cd5599",
   "metadata": {},
   "source": [
    "## case 6: Combine them all\n",
    "\n",
    "The previous cases represent a basic combination of augmentations. However, these classes can be further combined to produce more complex examples. Here there is a custom example. \n",
    "\n",
    "This augmenter is a sequential augmentation of three different blocks:\n",
    "\n",
    "1. Random augmentation between flip horizontal, flip vertical, or identity with 50\\% of probability of doing nothing\n",
    "2. Random augmentation between two noise adder: the EEG artifact or the band noise \n",
    "3. Random augmentation between the warp or a crop and resize augmentation\n",
    "\n",
    "Each augmentation in points 2 and 3 and three will be also called with random optional arguments\n",
    "\n",
    "Let's see how this complex augmentation can be created "
   ]
  },
  {
   "cell_type": "code",
   "execution_count": null,
   "id": "d5527e66",
   "metadata": {},
   "outputs": [],
   "source": [
    "# DEFINE AUGMENTER\n",
    "# FIRST RANDOM SELECTION: APPLY FLIP OR CHANGE REFERENCE OR NOTHING\n",
    "AUG_flipv = aug.StaticSingleAug(aug.flip_vertical)\n",
    "AUG_flipr = aug.StaticSingleAug(aug.flip_horizontal)\n",
    "AUG_id = aug.StaticSingleAug(aug.identity)\n",
    "Sequence1 = aug.RandomAug( AUG_id, AUG_flipv, AUG_id, p=[0.5, 0.25, 0.25])\n",
    "\n",
    "# SECOND RANDOM SELECTION: ADD SOME NOISE\n",
    "AUG_band = aug.DynamicSingleAug(aug.add_band_noise, \n",
    "                                 discrete_arg={'bandwidth': [\"delta\", \"theta\", \"alpha\", \"beta\", (30,49) ], \n",
    "                                               'samplerate': Fs,\n",
    "                                               'noise_range': 0.1\n",
    "                                              }\n",
    "                                )\n",
    "Aug_eye = aug.DynamicSingleAug(aug.add_eeg_artifact,\n",
    "                               discrete_arg = {'Fs': Fs, 'artifact': 'eye', 'batch_equal': False},\n",
    "                               range_arg= {'amplitude': [0.1,0.5]},\n",
    "                               range_type={'amplitude': False}\n",
    "                             )\n",
    "Sequence2 = aug.RandomAug( AUG_band, Aug_eye)\n",
    "\n",
    "# THIRD RANDOM SELECTION: CROP OR RANDOM PERMUTATION\n",
    "AUG_crop = aug.DynamicSingleAug(aug.crop_and_resize,\n",
    "                                discrete_arg={'batch_equal': False},\n",
    "                                range_arg ={'N_cut': [1, 4], 'segments': [10,15]},\n",
    "                                range_type ={'N_cut': True, 'segments': True})\n",
    "Sequence3 = aug.RandomAug( AUG_crop, Aug_warp)\n",
    "\n",
    "# FINAL AUGMENTER: SEQUENCE OF THE THREE RANDOM LISTS\n",
    "Augmenter = aug.SequentialAug(Sequence1, Sequence2, Sequence3)\n",
    "\n",
    "\n",
    "BatchEEGaug1 = Augmenter(BatchEEG)\n",
    "BatchEEGaug2 = Augmenter(BatchEEG)\n",
    "\n",
    "plt.plot(BatchEEG[0,0],linewidth=2.5)\n",
    "plt.plot(BatchEEGaug1[0,0])\n",
    "plt.plot(BatchEEGaug2[0,0])\n",
    "plt.tick_params(axis='both', which='major', labelsize=12)\n",
    "plt.title('Example of final complex augmenter', fontsize=15)\n",
    "plt.legend(['original sample', 'augmented sample 1', 'augmented sample 2'])\n",
    "plt.show()"
   ]
  }
 ],
 "metadata": {
  "kernelspec": {
   "display_name": "Python 3 (ipykernel)",
   "language": "python",
   "name": "python3"
  },
  "language_info": {
   "codemirror_mode": {
    "name": "ipython",
    "version": 3
   },
   "file_extension": ".py",
   "mimetype": "text/x-python",
   "name": "python",
   "nbconvert_exporter": "python",
   "pygments_lexer": "ipython3",
   "version": "3.11.6"
  }
 },
 "nbformat": 4,
 "nbformat_minor": 5
}
