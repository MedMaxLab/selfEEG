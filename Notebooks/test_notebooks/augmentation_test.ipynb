{
 "cells": [
  {
   "cell_type": "code",
   "execution_count": 1,
   "id": "f88873f8-d613-4fd1-8415-a9681f5b1aab",
   "metadata": {},
   "outputs": [],
   "source": [
    "import os\n",
    "import sys\n",
    "sys.path.append(os.getcwd().split('/test')[0])\n",
    "import itertools\n",
    "import random\n",
    "import numpy as np\n",
    "import torch\n",
    "from selfeeg import augmentation as aug\n",
    "\n",
    "def makeGrid(pars_dict):  \n",
    "    keys=pars_dict.keys()\n",
    "    combinations=itertools.product(*pars_dict.values())\n",
    "    ds=[dict(zip(keys,cc)) for cc in combinations]\n",
    "    return ds\n",
    "\n",
    "device  = torch.device(\"cuda\") if torch.cuda.is_available() else torch.device(\"cpu\")\n",
    "dims = (32,2,32,512)\n",
    "x1  = torch.randn(*dims[-1:])\n",
    "x2  = torch.randn(*dims[-2:])\n",
    "x3  = torch.randn(*dims[-3:])\n",
    "x4  = torch.randn(*dims)\n",
    "x1np  = x1.numpy()\n",
    "x2np  = x2.numpy()\n",
    "x3np  = x3.numpy()\n",
    "x4np  = x4.numpy()\n",
    "\n",
    "\n",
    "if device.type != 'cpu':\n",
    "    x1gpu  = torch.clone(x1).to(device=device)\n",
    "    x2gpu  = torch.clone(x2).to(device=device)\n",
    "    x3gpu  = torch.clone(x3).to(device=device)\n",
    "    x4gpu  = torch.clone(x4).to(device=device)"
   ]
  },
  {
   "cell_type": "code",
   "execution_count": 2,
   "id": "f743c42d-a325-4adc-a31e-aa0e4ea4dd24",
   "metadata": {},
   "outputs": [
    {
     "name": "stdout",
     "output_type": "stream",
     "text": [
      "---------------------------\n",
      "TESTING AUGMENTATION MODULE\n",
      "Found cuda device: testing nn.modules with both cpu and gpu\n",
      "---------------------------\n"
     ]
    }
   ],
   "source": [
    "print('---------------------------')\n",
    "print('TESTING AUGMENTATION MODULE')\n",
    "if device.type != 'cpu':\n",
    "    print('Found cuda device: testing nn.modules with both cpu and gpu')\n",
    "else:\n",
    "    print('Didn\\'t found cuda device: testing nn.modules with only cpu')\n",
    "print('---------------------------')"
   ]
  },
  {
   "cell_type": "code",
   "execution_count": 3,
   "id": "5150b95f-a7d8-4a7d-b686-2a991dd96564",
   "metadata": {},
   "outputs": [
    {
     "name": "stdout",
     "output_type": "stream",
     "text": [
      "Testing identity...   identity OK: tested 12 combinations of input arguments\n"
     ]
    }
   ],
   "source": [
    "print('Testing identity...', end=\"\", flush=True)\n",
    "aug_args = { 'x': [x1,x2,x3,x4,x1np,x2np,x3np,x4np] }\n",
    "aug_args = makeGrid(aug_args)\n",
    "for i in aug_args:\n",
    "    xaug = aug.identity(**i)\n",
    "    if isinstance(xaug, torch.Tensor):\n",
    "        assert torch.equal(i['x'],xaug)\n",
    "    else:\n",
    "        assert np.array_equal(i['x'],xaug)\n",
    "N = len(aug_args)\n",
    "if device.type != 'cpu':\n",
    "    aug_args = { 'x': [x1gpu, x2gpu, x3gpu, x4gpu] }\n",
    "    aug_args = makeGrid(aug_args)\n",
    "    for i in aug_args:\n",
    "        xaug = aug.identity(**i)\n",
    "        assert torch.equal(i['x'],xaug)\n",
    "print('   identity OK: tested', N+len(aug_args), 'combinations of input arguments')"
   ]
  },
  {
   "cell_type": "code",
   "execution_count": 4,
   "id": "e0d23387-3876-4d9b-b046-5a05221460ae",
   "metadata": {},
   "outputs": [
    {
     "name": "stdout",
     "output_type": "stream",
     "text": [
      "Testing shift vertical...   shift vertical OK: tested 36 combinations of input arguments\n"
     ]
    }
   ],
   "source": [
    "print('Testing shift vertical...', end=\"\", flush=True)\n",
    "aug_args = { 'x': [x1,x2,x3,x4,x1np,x2np,x3np,x4np], 'value': [1, 2.0, 4] }\n",
    "aug_args = makeGrid(aug_args)\n",
    "for i in aug_args:\n",
    "    xaug = aug.shift_vertical(**i)\n",
    "    # 1e-5 is added due to conversion of dtype in numpy array\n",
    "    assert xaug[*[0]*len(xaug.shape)]<=(i['x'][*[0]*len(xaug.shape)]+i['value']+1e-5) \n",
    "N = len(aug_args)\n",
    "if device.type != 'cpu':\n",
    "    aug_args = { 'x': [x1gpu, x2gpu, x3gpu, x4gpu], 'value': [1, 2.0, 4] }\n",
    "    aug_args = makeGrid(aug_args)\n",
    "    for i in aug_args:\n",
    "        xaug = aug.shift_vertical(**i)\n",
    "        assert xaug[*[0]*len(xaug.shape)]<=(i['x'][*[0]*len(xaug.shape)]+i['value'])\n",
    "print('   shift vertical OK: tested', N+len(aug_args), 'combinations of input arguments')"
   ]
  },
  {
   "cell_type": "code",
   "execution_count": 5,
   "id": "6bb01450-5e8e-4196-91d2-52088f7175a3",
   "metadata": {},
   "outputs": [
    {
     "name": "stdout",
     "output_type": "stream",
     "text": [
      "Testing shift horizontal...   shift vertical OK: tested 432 combinations of input arguments\n"
     ]
    }
   ],
   "source": [
    "print('Testing shift horizontal...', end=\"\", flush=True)\n",
    "\n",
    "aug_args = { 'x': [x1,x2,x3,x4,x1np,x2np,x3np,x4np], 'Fs':[128], \n",
    "            'shift_time': [0.5, 1, 2.0], 'forward':[None, True, False],\n",
    "            'random_shift':[False,True], 'batch_equal':[True,False]\n",
    "           }\n",
    "aug_args = makeGrid(aug_args)\n",
    "for i in aug_args:\n",
    "    # change batch equal to avoid function print\n",
    "    if not(i['batch_equal']):\n",
    "        if not( i['random_shift'] or (i['forward'] is None) ):\n",
    "            i['batch_equal']=True\n",
    "    xaug = aug.shift_horizontal(**i)\n",
    "N = len(aug_args)\n",
    "if device.type != 'cpu':\n",
    "    aug_args = { 'x': [x1gpu, x2gpu, x3gpu, x4gpu], 'Fs':[128], \n",
    "                'shift_time': [0.5, 1, 2.0], 'forward':[None, True, False],\n",
    "                'random_shift':[False,True], 'batch_equal':[True,False]\n",
    "               }\n",
    "    aug_args = makeGrid(aug_args)\n",
    "    for i in aug_args:\n",
    "        if not(i['batch_equal']):\n",
    "            if not( i['random_shift'] or (i['forward'] is None) ):\n",
    "                i['batch_equal']=True\n",
    "        xaug = aug.shift_horizontal(**i)\n",
    "        \n",
    "print('   shift vertical OK: tested', N+len(aug_args), 'combinations of input arguments')"
   ]
  },
  {
   "cell_type": "code",
   "execution_count": 6,
   "id": "f472c3c9-8f09-42bb-b1ab-9307c9022911",
   "metadata": {},
   "outputs": [
    {
     "name": "stdout",
     "output_type": "stream",
     "text": [
      "Testing shift frequency...   shift frequency OK: tested 432 combinations of input arguments\n"
     ]
    }
   ],
   "source": [
    "print('Testing shift frequency...', end=\"\", flush=True)\n",
    "aug_args = { 'x': [x1,x2,x3,x4,x1np,x2np,x3np,x4np], 'Fs':[128], \n",
    "            'shift_freq': [1.35, 2, 4.12], 'forward':[None, True, False],\n",
    "            'random_shift':[False,True], 'batch_equal':[True,False]\n",
    "           }\n",
    "aug_args = makeGrid(aug_args)\n",
    "for i in aug_args:\n",
    "    if not(i['batch_equal']):\n",
    "        if not( i['random_shift'] or (i['forward'] is None) ):\n",
    "            i['batch_equal']=True\n",
    "    xaug = aug.shift_frequency(**i)\n",
    "N = len(aug_args)    \n",
    "if device.type != 'cpu':\n",
    "    aug_args = { 'x': [x1gpu, x2gpu, x3gpu, x4gpu], 'Fs':[128], \n",
    "                'shift_freq': [1.35, 2, 4.12], 'forward':[None, True, False],\n",
    "                'random_shift':[False,True], 'batch_equal':[True,False]\n",
    "               }\n",
    "    aug_args = makeGrid(aug_args)\n",
    "    for i in aug_args:\n",
    "        if not(i['batch_equal']):\n",
    "            if not( i['random_shift'] or (i['forward'] is None) ):\n",
    "                i['batch_equal']=True\n",
    "        xaug = aug.shift_frequency(**i)\n",
    "print('   shift frequency OK: tested', N+len(aug_args), 'combinations of input arguments')"
   ]
  },
  {
   "cell_type": "code",
   "execution_count": 7,
   "id": "4fd43ff4-a6ce-4cf2-90e4-c9473cd8ca5c",
   "metadata": {},
   "outputs": [
    {
     "name": "stdout",
     "output_type": "stream",
     "text": [
      "Testing flip vertical...   flip vertical OK: tested 12 combinations of input arguments\n"
     ]
    }
   ],
   "source": [
    "print('Testing flip vertical...', end=\"\", flush=True)\n",
    "aug_args = { 'x': [x1,x2,x3,x4,x1np,x2np,x3np,x4np] }\n",
    "aug_args = makeGrid(aug_args)\n",
    "for i in aug_args:\n",
    "    xaug = aug.flip_vertical(**i)\n",
    "N = len(aug_args)\n",
    "if device.type != 'cpu':\n",
    "    aug_args = { 'x': [x1gpu, x2gpu, x3gpu, x4gpu] }\n",
    "    aug_args = makeGrid(aug_args)\n",
    "    for i in aug_args:\n",
    "        xaug = aug.flip_vertical(**i)\n",
    "print('   flip vertical OK: tested', N+len(aug_args), 'combinations of input arguments')"
   ]
  },
  {
   "cell_type": "code",
   "execution_count": 8,
   "id": "7c859f23-7223-4c5c-85f2-3662a25dbae8",
   "metadata": {},
   "outputs": [
    {
     "name": "stdout",
     "output_type": "stream",
     "text": [
      "Testing flip horizontal...   flip vertical OK: tested 12 combinations of input arguments\n"
     ]
    }
   ],
   "source": [
    "print('Testing flip horizontal...', end=\"\", flush=True)\n",
    "aug_args = { 'x': [x1,x2,x3,x4,x1np,x2np,x3np,x4np] }\n",
    "aug_args = makeGrid(aug_args)\n",
    "for i in aug_args:\n",
    "    xaug = aug.flip_horizontal(**i)\n",
    "N = len(aug_args)\n",
    "if device.type != 'cpu':\n",
    "    aug_args = { 'x': [x1gpu, x2gpu, x3gpu, x4gpu] }\n",
    "    aug_args = makeGrid(aug_args)\n",
    "    for i in aug_args:\n",
    "        xaug = aug.flip_horizontal(**i)\n",
    "print('   flip vertical OK: tested', N+len(aug_args), 'combinations of input arguments')"
   ]
  },
  {
   "cell_type": "code",
   "execution_count": 9,
   "id": "4044eea4-f999-4c95-be96-dcb69757d08f",
   "metadata": {},
   "outputs": [
    {
     "name": "stdout",
     "output_type": "stream",
     "text": [
      "Testing gaussian noise...   gaussian noise OK: tested 108 combinations of input arguments\n"
     ]
    }
   ],
   "source": [
    "print('Testing gaussian noise...', end=\"\", flush=True)\n",
    "aug_args = { 'x': [x1,x2,x3,x4,x1np,x2np,x3np,x4np], 'mean':[0, 1, 2.5], \n",
    "            'std': [1.35, 2, 0.72]\n",
    "           }\n",
    "aug_args = makeGrid(aug_args)\n",
    "for i in aug_args:\n",
    "    xaug = aug.add_gaussian_noise(**i)\n",
    "N = len(aug_args)    \n",
    "if device.type != 'cpu':\n",
    "    aug_args = { 'x': [x1gpu, x2gpu, x3gpu, x4gpu],  'mean':[0, 1, 2.5], \n",
    "                'std': [1.35, 2, 0.72]}\n",
    "    aug_args = makeGrid(aug_args)\n",
    "    for i in aug_args:\n",
    "        xaug = aug.add_gaussian_noise(**i)\n",
    "print('   gaussian noise OK: tested', N+len(aug_args), 'combinations of input arguments')"
   ]
  },
  {
   "cell_type": "code",
   "execution_count": 10,
   "id": "518c85f8-d54d-4433-add9-2222f139afe7",
   "metadata": {},
   "outputs": [
    {
     "name": "stdout",
     "output_type": "stream",
     "text": [
      "Testing gaussian noise..."
     ]
    },
    {
     "name": "stderr",
     "output_type": "stream",
     "text": [
      "/home/delpup/EEG_SSL_Project/SSL_EEG_PA/selfeeg/augmentation/functional.py:466: RuntimeWarning: divide by zero encountered in log10\n",
      "  x_db = 10 * np.log10(x_pow)\n"
     ]
    },
    {
     "name": "stdout",
     "output_type": "stream",
     "text": [
      "   gaussian noise OK: tested 36 combinations of input arguments\n"
     ]
    }
   ],
   "source": [
    "print('Testing gaussian noise...', end=\"\", flush=True)\n",
    "aug_args = { 'x': [x1,x2,x3,x4,x1np,x2np,x3np,x4np], 'target_snr':[1,2,5] }\n",
    "aug_args = makeGrid(aug_args)\n",
    "for i in aug_args:\n",
    "    xaug = aug.add_noise_SNR(**i)\n",
    "N = len(aug_args)    \n",
    "if device.type != 'cpu':\n",
    "    aug_args = { 'x': [x1gpu, x2gpu, x3gpu, x4gpu], 'target_snr':[1,2,5] }\n",
    "    aug_args = makeGrid(aug_args)\n",
    "    for i in aug_args:\n",
    "        xaug = aug.add_noise_SNR(**i)\n",
    "print('   gaussian noise OK: tested', N+len(aug_args), 'combinations of input arguments')"
   ]
  },
  {
   "cell_type": "code",
   "execution_count": 11,
   "id": "b56f395c-f351-4dab-b169-57d361650521",
   "metadata": {},
   "outputs": [
    {
     "name": "stdout",
     "output_type": "stream",
     "text": [
      "Testing band noise...   band noise OK: tested 540 combinations of input arguments\n"
     ]
    }
   ],
   "source": [
    "print('Testing band noise...', end=\"\", flush=True)\n",
    "aug_args = { 'x': [x1,x2,x3,x4,x1np,x2np,x3np,x4np], \n",
    "            'bandwidth':[['theta','gamma'],[(1,10),(15,18)],[4,50],50,['theta',(10,20),50]],\n",
    "            'samplerate':[128],'noise_range':[None,2,1.5], 'std':[None,1.4,1.23]\n",
    "           }\n",
    "aug_args = makeGrid(aug_args)\n",
    "for i in aug_args:\n",
    "    xaug = aug.add_band_noise(**i)\n",
    "N = len(aug_args)    \n",
    "if device.type != 'cpu':\n",
    "    aug_args = { 'x': [x1gpu, x2gpu, x3gpu, x4gpu], \n",
    "                'bandwidth':[['theta','gamma'],[(1,10),(15,18)],[4,50],50,['theta',(10,20),50]],\n",
    "                'samplerate':[128],'noise_range':[None,2,1.5], 'std':[None,1.4,1.23]\n",
    "               }\n",
    "    aug_args = makeGrid(aug_args)\n",
    "    for i in aug_args:\n",
    "        xaug = aug.add_band_noise(**i)\n",
    "print('   band noise OK: tested', N+len(aug_args), 'combinations of input arguments')"
   ]
  },
  {
   "cell_type": "code",
   "execution_count": 12,
   "id": "c5866442-c768-4e3d-a536-e220f3014c04",
   "metadata": {},
   "outputs": [
    {
     "name": "stdout",
     "output_type": "stream",
     "text": [
      "Testing scaling...   scaling OK: tested 96 combinations of input arguments\n"
     ]
    }
   ],
   "source": [
    "print('Testing scaling...', end=\"\", flush=True)\n",
    "aug_args = { 'x': [x1,x2,x3,x4,x1np,x2np,x3np,x4np], \n",
    "            'value':[None,1.5,2,0.5], 'batch_equal':[True,False]\n",
    "           }\n",
    "aug_args = makeGrid(aug_args)\n",
    "for i in aug_args:\n",
    "    xaug = aug.scaling(**i)\n",
    "N = len(aug_args)    \n",
    "if device.type != 'cpu':\n",
    "    aug_args = { 'x': [x1gpu, x2gpu, x3gpu, x4gpu], \n",
    "                'value':[None,1.5,2,0.5], 'batch_equal':[True,False]\n",
    "               }\n",
    "    aug_args = makeGrid(aug_args)\n",
    "    for i in aug_args:\n",
    "        xaug = aug.scaling(**i)\n",
    "print('   scaling OK: tested', N+len(aug_args), 'combinations of input arguments')"
   ]
  },
  {
   "cell_type": "code",
   "execution_count": 13,
   "id": "f73e4f20-2e0b-4280-bedd-ae98f5b71e50",
   "metadata": {},
   "outputs": [
    {
     "name": "stdout",
     "output_type": "stream",
     "text": [
      "Testing random slope scale...   random slope scale OK: tested 192 combinations of input arguments\n"
     ]
    }
   ],
   "source": [
    "print('Testing random slope scale...', end=\"\", flush=True)\n",
    "aug_args = { 'x': [x1,x2,x3,x4,x1np,x2np,x3np,x4np], \n",
    "            'min_scale':[0.7,0.9], 'max_scale':[1.2,1.5], \n",
    "            'batch_equal':[True,False], 'keep_memory':[True,False]\n",
    "           }\n",
    "aug_args = makeGrid(aug_args)\n",
    "for i in aug_args:\n",
    "    if i['batch_equal'] and len(i['x'].shape)<2:\n",
    "        i['batch_equal']=False\n",
    "    xaug = aug.random_slope_scale(**i)\n",
    "N = len(aug_args)    \n",
    "if device.type != 'cpu':\n",
    "    aug_args = { 'x': [x1gpu, x2gpu, x3gpu, x4gpu], \n",
    "            'min_scale':[0.7,0.9], 'max_scale':[1.2,1.5], \n",
    "            'batch_equal':[True,False], 'keep_memory':[True,False]\n",
    "               }\n",
    "    aug_args = makeGrid(aug_args)\n",
    "    for i in aug_args:\n",
    "        if i['batch_equal'] and len(i['x'].shape)<2:\n",
    "            i['batch_equal']=False\n",
    "        xaug = aug.random_slope_scale(**i)\n",
    "print('   random slope scale OK: tested', N+len(aug_args), 'combinations of input arguments')"
   ]
  },
  {
   "cell_type": "code",
   "execution_count": 14,
   "id": "c1ad318b-199a-43bd-8863-fd5e36f61846",
   "metadata": {},
   "outputs": [
    {
     "name": "stdout",
     "output_type": "stream",
     "text": [
      "Testing random FT phase...   random FT phase OK: tested 72 combinations of input arguments\n"
     ]
    }
   ],
   "source": [
    "print('Testing random FT phase...', end=\"\", flush=True)\n",
    "aug_args = { 'x': [x1,x2,x3,x4,x1np,x2np,x3np,x4np], \n",
    "            'value':[0.2,0.5,0.75], 'batch_equal':[True,False]\n",
    "           }\n",
    "aug_args = makeGrid(aug_args)\n",
    "for i in aug_args:\n",
    "    xaug = aug.random_FT_phase(**i)\n",
    "N = len(aug_args)    \n",
    "if device.type != 'cpu':\n",
    "    aug_args = { 'x': [x1gpu, x2gpu, x3gpu, x4gpu], \n",
    "                'value':[0.2,0.5,0.75], 'batch_equal':[True,False]\n",
    "               }\n",
    "    aug_args = makeGrid(aug_args)\n",
    "    for i in aug_args:\n",
    "        xaug = aug.random_FT_phase(**i)\n",
    "print('   random FT phase OK: tested', N+len(aug_args), 'combinations of input arguments')"
   ]
  },
  {
   "cell_type": "code",
   "execution_count": 15,
   "id": "26f8d883-2b98-46ed-bf49-dd25d7732795",
   "metadata": {},
   "outputs": [
    {
     "name": "stdout",
     "output_type": "stream",
     "text": [
      "Testing moving average...   moving average OK: tested 36 combinations of input arguments\n"
     ]
    }
   ],
   "source": [
    "print('Testing moving average...', end=\"\", flush=True)\n",
    "aug_args = { 'x': [x1,x2,x3,x4,x1np,x2np,x3np,x4np], 'order': [3, 5, 9] }\n",
    "aug_args = makeGrid(aug_args)\n",
    "for i in aug_args:\n",
    "    xaug = aug.moving_avg(**i)\n",
    "N = len(aug_args)\n",
    "if device.type != 'cpu':\n",
    "    aug_args = { 'x': [x1gpu, x2gpu, x3gpu, x4gpu], 'order': [3, 5, 9] }\n",
    "    aug_args = makeGrid(aug_args)\n",
    "    for i in aug_args:\n",
    "        xaug = aug.moving_avg(**i)\n",
    "print('   moving average OK: tested', N+len(aug_args), 'combinations of input arguments')"
   ]
  },
  {
   "cell_type": "code",
   "execution_count": 16,
   "id": "a1a712d4-bb55-4f88-ad24-6bda9caaf2e3",
   "metadata": {},
   "outputs": [
    {
     "name": "stdout",
     "output_type": "stream",
     "text": [
      "Testing lowpass filter...   lowpass filter OK: tested 96 combinations of input arguments\n"
     ]
    }
   ],
   "source": [
    "print('Testing lowpass filter...', end=\"\", flush=True)\n",
    "aug_args = { 'x': [x1,x2,x3,x4,x1np,x2np,x3np,x4np], 'Fs':[128,256],\n",
    "            'Wp':[30], 'Ws':[50], 'rp':[-20*np.log10(.95)], 'rs':[-20*np.log10(.15)], \n",
    "            'filter_type': ['butter', 'ellip', 'cheby1', 'cheby2']\n",
    "           }\n",
    "aug_args = makeGrid(aug_args)\n",
    "for i in aug_args:\n",
    "    xaug = aug.filter_lowpass(**i)\n",
    "N = len(aug_args)\n",
    "if device.type != 'cpu':\n",
    "    aug_args = { 'x': [x1gpu, x2gpu, x3gpu, x4gpu],  'Fs':[128,256],\n",
    "            'Wp':[30], 'Ws':[50], 'rp':[-20*np.log10(.95)], 'rs':[-20*np.log10(.15)], \n",
    "            'filter_type': ['butter', 'ellip', 'cheby1', 'cheby2']}\n",
    "    aug_args = makeGrid(aug_args)\n",
    "    for i in aug_args:\n",
    "        xaug = aug.filter_lowpass(**i)\n",
    "print('   lowpass filter OK: tested', N+len(aug_args), 'combinations of input arguments')"
   ]
  },
  {
   "cell_type": "code",
   "execution_count": 17,
   "id": "4fd85ad4-6045-49dd-994f-b331168ac082",
   "metadata": {},
   "outputs": [
    {
     "name": "stdout",
     "output_type": "stream",
     "text": [
      "Testing highpass filter...   highpass filter OK: tested 96 combinations of input arguments\n"
     ]
    }
   ],
   "source": [
    "print('Testing highpass filter...', end=\"\", flush=True)\n",
    "aug_args = { 'x': [x1,x2,x3,x4,x1np,x2np,x3np,x4np], 'Fs':[128,256],\n",
    "            'Wp':[40], 'Ws':[20], 'rp':[-20*np.log10(.95)], 'rs':[-20*np.log10(.15)], \n",
    "            'filter_type': ['butter', 'ellip', 'cheby1', 'cheby2']\n",
    "           }\n",
    "aug_args = makeGrid(aug_args)\n",
    "for i in aug_args:\n",
    "    xaug = aug.filter_highpass(**i)\n",
    "N = len(aug_args)\n",
    "if device.type != 'cpu':\n",
    "    aug_args = { 'x': [x1gpu, x2gpu, x3gpu, x4gpu],  'Fs':[128,256],\n",
    "            'Wp':[40], 'Ws':[20], 'rp':[-20*np.log10(.95)], 'rs':[-20*np.log10(.15)], \n",
    "            'filter_type': ['butter', 'ellip', 'cheby1', 'cheby2']}\n",
    "    aug_args = makeGrid(aug_args)\n",
    "    for i in aug_args:\n",
    "        xaug = aug.filter_highpass(**i)\n",
    "print('   highpass filter OK: tested', N+len(aug_args), 'combinations of input arguments')"
   ]
  },
  {
   "cell_type": "code",
   "execution_count": 18,
   "id": "1e7ec6a6-a092-4280-9a91-5c742ced05e6",
   "metadata": {},
   "outputs": [
    {
     "name": "stdout",
     "output_type": "stream",
     "text": [
      "Testing bandpass filter..."
     ]
    },
    {
     "name": "stderr",
     "output_type": "stream",
     "text": [
      "/home/delpup/miniconda3/envs/selfdlp/lib/python3.11/site-packages/scipy/signal/_filter_design.py:3803: RuntimeWarning: divide by zero encountered in divide\n",
      "  nat = ((stopb ** 2 - passb[0] * passb[1]) /\n",
      "/home/delpup/miniconda3/envs/selfdlp/lib/python3.11/site-packages/scipy/signal/_filter_design.py:4290: RuntimeWarning: divide by zero encountered in divide\n",
      "  nat = ((stopb ** 2 - passb[0] * passb[1]) /\n",
      "/home/delpup/miniconda3/envs/selfdlp/lib/python3.11/site-packages/scipy/signal/_filter_design.py:3975: RuntimeWarning: divide by zero encountered in divide\n",
      "  nat = ((stopb ** 2 - passb[0] * passb[1]) /\n",
      "/home/delpup/miniconda3/envs/selfdlp/lib/python3.11/site-packages/scipy/signal/_filter_design.py:4119: RuntimeWarning: divide by zero encountered in divide\n",
      "  nat = ((stopb ** 2 - passb[0] * passb[1]) /\n"
     ]
    },
    {
     "name": "stdout",
     "output_type": "stream",
     "text": [
      "   bandpass filter OK: tested 672 combinations of input arguments\n"
     ]
    }
   ],
   "source": [
    "print('Testing bandpass filter...', end=\"\", flush=True)\n",
    "aug_args = { 'x': [x1,x2,x3,x4,x1np,x2np,x3np,x4np], 'Fs':[128,256], \n",
    "            'eeg_band':[None,\"delta\", \"theta\", \"alpha\", \"beta\", \n",
    "                        \"gamma\", \"gamma_low\"],\n",
    "            'filter_type': ['butter', 'ellip', 'cheby1', 'cheby2']\n",
    "           }\n",
    "aug_args = makeGrid(aug_args)\n",
    "for i in aug_args:\n",
    "    xaug = aug.filter_bandpass(**i)\n",
    "N = len(aug_args)\n",
    "if device.type != 'cpu':\n",
    "    aug_args = { 'x': [x1gpu, x2gpu, x3gpu, x4gpu], 'Fs':[128,256], \n",
    "                'eeg_band':[None,\"delta\", \"theta\", \"alpha\", \"beta\", \n",
    "                            \"gamma\", \"gamma_low\"],\n",
    "                'filter_type': ['butter', 'ellip', 'cheby1', 'cheby2']\n",
    "               }\n",
    "    aug_args = makeGrid(aug_args)\n",
    "    for i in aug_args:\n",
    "        xaug = aug.filter_bandpass(**i)\n",
    "print('   bandpass filter OK: tested', N+len(aug_args), 'combinations of input arguments')"
   ]
  },
  {
   "cell_type": "code",
   "execution_count": 19,
   "id": "84ac8fe6-4e97-4395-9a25-c46bb89514c6",
   "metadata": {},
   "outputs": [
    {
     "name": "stdout",
     "output_type": "stream",
     "text": [
      "Testing bandstop filter...   bandstop filter OK: tested 672 combinations of input arguments\n"
     ]
    }
   ],
   "source": [
    "print('Testing bandstop filter...', end=\"\", flush=True)\n",
    "aug_args = { 'x': [x1,x2,x3,x4,x1np,x2np,x3np,x4np], 'Fs':[128,256], \n",
    "            'eeg_band':[None,\"delta\", \"theta\", \"alpha\", \"beta\", \n",
    "                        \"gamma\", \"gamma_low\"],\n",
    "            'filter_type': ['butter', 'ellip', 'cheby1', 'cheby2']\n",
    "           }\n",
    "aug_args = makeGrid(aug_args)\n",
    "for i in aug_args:\n",
    "    xaug = aug.filter_bandstop(**i)\n",
    "N = len(aug_args)\n",
    "if device.type != 'cpu':\n",
    "    aug_args = { 'x': [x1gpu, x2gpu, x3gpu, x4gpu], 'Fs':[128,256], \n",
    "                'eeg_band':[None,\"delta\", \"theta\", \"alpha\", \"beta\", \n",
    "                            \"gamma\", \"gamma_low\"],\n",
    "                'filter_type': ['butter', 'ellip', 'cheby1', 'cheby2']\n",
    "               }\n",
    "    aug_args = makeGrid(aug_args)\n",
    "    for i in aug_args:\n",
    "        xaug = aug.filter_bandstop(**i)\n",
    "print('   bandstop filter OK: tested', N+len(aug_args), 'combinations of input arguments')"
   ]
  },
  {
   "cell_type": "code",
   "execution_count": 20,
   "id": "1a32646a-0bf1-4e80-ba6b-5c9f7e5461d7",
   "metadata": {},
   "outputs": [
    {
     "name": "stdout",
     "output_type": "stream",
     "text": [
      "Testing permute channels...   permute channels OK: tested 432 combinations of input arguments\n"
     ]
    }
   ],
   "source": [
    "print('Testing permute channels...', end=\"\", flush=True)\n",
    "channel_map = ['FP1', 'AF3', 'F1', 'F3', 'FC5', 'FC3', 'FC1', 'C1', \n",
    "               'C5', 'TP7', 'CP5', 'CP3', 'CP1', 'P7', 'PO7', 'POZ', \n",
    "               'PZ', 'FPZ', 'FP2', 'AFZ', 'FZ', 'F2', 'F4', 'F6', \n",
    "               'FT8', 'C4', 'T8', 'TP8', 'CP6', 'CP4', 'CP2', 'PO8']\n",
    "aug_args = { 'x': [x2,x3,x4,x2np,x3np,x4np], 'chan2shuf':[-1, 2, 5], \n",
    "            'mode':[\"random\", \"network\"], 'chan_net':[\"DMN\",\"FPN\", ['DMN', 'FPN'],\"all\"],\n",
    "            'batch_equal': [True,False], 'channel_map': [channel_map]\n",
    "           }\n",
    "aug_args = makeGrid(aug_args)\n",
    "for i in aug_args:\n",
    "    xaug = aug.permute_channels(**i)\n",
    "N = len(aug_args)\n",
    "if device.type != 'cpu':\n",
    "    aug_args = { 'x': [x2gpu, x3gpu, x4gpu], 'chan2shuf':[-1, 2, 5], \n",
    "            'mode':[\"random\", \"network\"], 'chan_net':[\"DMN\",\"FPN\", ['DMN', 'FPN'],\"all\"],\n",
    "            'batch_equal': [True,False],'channel_map': [channel_map]\n",
    "           }\n",
    "    aug_args = makeGrid(aug_args)\n",
    "    for i in aug_args:\n",
    "        xaug = aug.permute_channels(**i)\n",
    "print('   permute channels OK: tested', N+len(aug_args), 'combinations of input arguments')"
   ]
  },
  {
   "cell_type": "code",
   "execution_count": 21,
   "id": "6e174c7b-edad-498c-aae3-cd1915292dbd",
   "metadata": {},
   "outputs": [
    {
     "name": "stdout",
     "output_type": "stream",
     "text": [
      "Testing permute signal...   permute signal OK: tested 288 combinations of input arguments\n"
     ]
    }
   ],
   "source": [
    "print('Testing permute signal...', end=\"\", flush=True)\n",
    "aug_args = { 'x': [x1,x2,x3,x4,x1np,x2np,x3np,x4np], 'segments':[10, 15, 20], \n",
    "            'seg_to_per':[-1,2,5,8],'batch_equal': [True,False]\n",
    "           }\n",
    "aug_args = makeGrid(aug_args)\n",
    "for i in aug_args:\n",
    "    xaug = aug.permutation_signal(**i)\n",
    "N = len(aug_args)\n",
    "if device.type != 'cpu':\n",
    "    aug_args = { 'x': [x1gpu, x2gpu, x3gpu, x4gpu], 'segments':[10, 15, 20], \n",
    "            'seg_to_per':[-1,2,5,8],'batch_equal': [True,False]\n",
    "           }\n",
    "    aug_args = makeGrid(aug_args)\n",
    "    for i in aug_args:\n",
    "        xaug = aug.permutation_signal(**i)\n",
    "print('   permute signal OK: tested', N+len(aug_args), 'combinations of input arguments')"
   ]
  },
  {
   "cell_type": "code",
   "execution_count": 22,
   "id": "4046c729-bf28-4d94-a030-a9b83cfb51dd",
   "metadata": {},
   "outputs": [
    {
     "name": "stdout",
     "output_type": "stream",
     "text": [
      "Testing warp signal (this may take some time)...   warp signal OK: tested 96 combinations of input arguments\n"
     ]
    }
   ],
   "source": [
    "print('Testing warp signal (this may take some time)...', end=\"\", flush=True)\n",
    "aug_args = { 'x': [x1,x2,x3,x4,x1np,x2np,x3np,x4np], 'segments':[15], \n",
    "            'stretch_strength':[2,1.5],'squeeze_strength':[0.4,0.8],\n",
    "            'batch_equal': [True,False]\n",
    "           }\n",
    "aug_args = makeGrid(aug_args)\n",
    "for i in aug_args:\n",
    "    xaug = aug.warp_signal(**i)\n",
    "N = len(aug_args)\n",
    "if device.type != 'cpu':\n",
    "    aug_args = { 'x': [x1gpu, x2gpu, x3gpu, x4gpu], 'segments':[15], \n",
    "            'stretch_strength':[2,1.5],'squeeze_strength':[0.4,0.8],\n",
    "            'batch_equal': [True,False]\n",
    "           }\n",
    "    aug_args = makeGrid(aug_args)\n",
    "    for i in aug_args:\n",
    "        xaug = aug.warp_signal(**i)\n",
    "print('   warp signal OK: tested', N+len(aug_args), 'combinations of input arguments')"
   ]
  },
  {
   "cell_type": "code",
   "execution_count": 23,
   "id": "c4083e83-34bb-4106-93bf-c002bfb2c806",
   "metadata": {},
   "outputs": [
    {
     "name": "stdout",
     "output_type": "stream",
     "text": [
      "Testing crop and resize...   crop and resize OK: tested 48 combinations of input arguments\n"
     ]
    }
   ],
   "source": [
    "print('Testing crop and resize...', end=\"\", flush=True)\n",
    "aug_args = { 'x': [x1,x2,x3,x4,x1np,x2np,x3np,x4np], 'segments':[15], \n",
    "            'N_cut':[1,5], 'batch_equal': [True,False]\n",
    "           }\n",
    "aug_args = makeGrid(aug_args)\n",
    "for i in aug_args:\n",
    "    xaug = aug.crop_and_resize(**i)\n",
    "N = len(aug_args)\n",
    "if device.type != 'cpu':\n",
    "    aug_args = { 'x': [x1gpu, x2gpu, x3gpu, x4gpu], 'segments':[15], \n",
    "            'N_cut':[1,5], 'batch_equal': [True,False]\n",
    "           }\n",
    "    aug_args = makeGrid(aug_args)\n",
    "    for i in aug_args:\n",
    "        xaug = aug.crop_and_resize(**i)\n",
    "print('   crop and resize OK: tested', N+len(aug_args), 'combinations of input arguments')"
   ]
  },
  {
   "cell_type": "code",
   "execution_count": 24,
   "id": "8ffb7465-b602-4c68-8915-be5557cfb73b",
   "metadata": {},
   "outputs": [
    {
     "name": "stdout",
     "output_type": "stream",
     "text": [
      "Testing change reference...   change refeference OK: tested 108 combinations of input arguments\n"
     ]
    }
   ],
   "source": [
    "print('Testing change reference...', end=\"\", flush=True)\n",
    "aug_args = { 'x': [x2,x3,x4,x2np,x3np,x4np], 'mode':['chan','avg'], \n",
    "            'reference':[None, 5], 'exclude_from_ref': [None, 9,[9,10]]\n",
    "           }\n",
    "aug_args = makeGrid(aug_args)\n",
    "for i in aug_args:\n",
    "    xaug = aug.change_ref(**i)\n",
    "N = len(aug_args)\n",
    "if device.type != 'cpu':\n",
    "    aug_args = { 'x': [x2gpu, x3gpu, x4gpu], 'mode':['chan','avg'], \n",
    "            'reference':[None, 5], 'exclude_from_ref': [None, 9,[9,10]]\n",
    "           }\n",
    "    aug_args = makeGrid(aug_args)\n",
    "    for i in aug_args:\n",
    "        xaug = aug.change_ref(**i)\n",
    "print('   change refeference OK: tested', N+len(aug_args), 'combinations of input arguments')"
   ]
  },
  {
   "cell_type": "code",
   "execution_count": 25,
   "id": "262cd746-2521-425b-948e-00ced78395c4",
   "metadata": {},
   "outputs": [
    {
     "name": "stdout",
     "output_type": "stream",
     "text": [
      "Testing masking...   masking OK: tested 216 combinations of input arguments\n"
     ]
    }
   ],
   "source": [
    "print('Testing masking...', end=\"\", flush=True)\n",
    "aug_args = { 'x': [x1,x2,x3,x4,x1np,x2np,x3np,x4np], 'mask_number':[1,2,4], \n",
    "            'masked_ratio':[0.1,0.2,0.4], 'batch_equal': [True,False]\n",
    "           }\n",
    "aug_args = makeGrid(aug_args)\n",
    "for i in aug_args:\n",
    "    xaug = aug.masking(**i)\n",
    "N = len(aug_args)\n",
    "if device.type != 'cpu':\n",
    "    aug_args = { 'x': [x1gpu,x2gpu, x3gpu, x4gpu], 'mask_number':[1,2,4], \n",
    "                'masked_ratio':[0.1,0.2,0.4], 'batch_equal': [True,False]\n",
    "               }\n",
    "    aug_args = makeGrid(aug_args)\n",
    "    for i in aug_args:\n",
    "        xaug = aug.masking(**i)\n",
    "print('   masking OK: tested', N+len(aug_args), 'combinations of input arguments')"
   ]
  },
  {
   "cell_type": "code",
   "execution_count": 26,
   "id": "68c6350f-b985-43d4-acb3-0ca00d362977",
   "metadata": {},
   "outputs": [
    {
     "name": "stdout",
     "output_type": "stream",
     "text": [
      "Testing channel dropout...   channel dropout OK: tested 54 combinations of input arguments\n"
     ]
    }
   ],
   "source": [
    "print('Testing channel dropout...', end=\"\", flush=True)\n",
    "aug_args = { 'x': [x2,x3,x4,x2np,x3np,x4np], 'Nchan':[None,2,3],'batch_equal': [True,False]}\n",
    "aug_args = makeGrid(aug_args)\n",
    "for i in aug_args:\n",
    "    xaug = aug.channel_dropout(**i)\n",
    "N = len(aug_args)\n",
    "if device.type != 'cpu':\n",
    "    aug_args = { 'x': [x2gpu, x3gpu, x4gpu], 'Nchan':[None,2,3],'batch_equal': [True,False]}\n",
    "    aug_args = makeGrid(aug_args)\n",
    "    for i in aug_args:\n",
    "        xaug = aug.channel_dropout(**i)\n",
    "print('   channel dropout OK: tested', N+len(aug_args), 'combinations of input arguments')"
   ]
  },
  {
   "cell_type": "code",
   "execution_count": 27,
   "id": "a5a6402a-83df-4f3a-ad8b-bde83496a9c9",
   "metadata": {},
   "outputs": [
    {
     "name": "stdout",
     "output_type": "stream",
     "text": [
      "Testing eeg artifact...   eeg artifact OK: tested 2688 combinations of input arguments\n"
     ]
    }
   ],
   "source": [
    "print('Testing eeg artifact...', end=\"\", flush=True)\n",
    "aug_args = { 'x': [x1,x2,x3,x4,x1np,x2np,x3np,x4np], 'Fs':[128], \n",
    "            'artifact':[None,'white','line','eye','muscle','drift','lost'],\n",
    "            'amplitude':[None,1],'line_at_60Hz':[True,False],'lost_time':[0.5,None],\n",
    "            'drift_slope':[None,0.2],'batch_equal': [True,False]}\n",
    "aug_args = makeGrid(aug_args)\n",
    "for i in aug_args:\n",
    "    xaug = aug.add_eeg_artifact(**i)\n",
    "N = len(aug_args)\n",
    "if device.type != 'cpu':\n",
    "    aug_args = { 'x': [x1gpu,x2gpu, x3gpu, x4gpu], 'Fs':[128], \n",
    "            'artifact':[None,'white','line','eye','muscle','drift','lost'],\n",
    "            'amplitude':[None,1],'line_at_60Hz':[True,False],'lost_time':[0.5,None],\n",
    "            'drift_slope':[None,0.2],'batch_equal': [True,False]}\n",
    "    aug_args = makeGrid(aug_args)\n",
    "    for i in aug_args:\n",
    "        xaug = aug.add_eeg_artifact(**i)\n",
    "print('   eeg artifact OK: tested', N+len(aug_args), 'combinations of input arguments')"
   ]
  },
  {
   "cell_type": "code",
   "execution_count": 28,
   "id": "e3fd4673-07cc-494a-b929-ae4046d20a13",
   "metadata": {},
   "outputs": [
    {
     "name": "stdout",
     "output_type": "stream",
     "text": [
      "Testing augmentation composition by running introductory notebook...   augmentation composition OK\n"
     ]
    }
   ],
   "source": [
    "print('Testing augmentation composition by running introductory notebook...', end=\"\", flush=True)\n",
    "Fs = 128\n",
    "BatchEEG = torch.zeros(16,32,1024) + torch.sin(torch.linspace(0, 8*np.pi,1024))\n",
    "BatchEEGaug = aug.add_eeg_artifact(BatchEEG, Fs, 'eye' , amplitude=0.5, batch_equal=False)\n",
    "Aug_eye = aug.StaticSingleAug(aug.add_eeg_artifact, \n",
    "                              {'Fs': Fs, 'artifact': 'eye', 'amplitude': 0.5, 'batch_equal': False}\n",
    "                             )\n",
    "BatchEEGaug = Aug_eye(BatchEEG)\n",
    "Aug_eye = aug.StaticSingleAug(aug.add_eeg_artifact, \n",
    "                              [{'Fs': Fs, 'artifact': 'eye', 'amplitude': 0.5, 'batch_equal': False},\n",
    "                               {'Fs': Fs, 'artifact': 'eye', 'amplitude': 1.0, 'batch_equal': False} #new set\n",
    "                              ]\n",
    "                             )\n",
    "BatchEEGaug1 = Aug_eye(BatchEEG)\n",
    "BatchEEGaug2 = Aug_eye(BatchEEG)\n",
    "Aug_warp = aug.DynamicSingleAug(aug.warp_signal, \n",
    "                               discrete_arg = {'batch_equal': [True, False]}, #discrete args accepts single values if \n",
    "                                                                               #you want those to be static\n",
    "                               range_arg= {'segments': [5,15], 'stretch_strength': [1.5,2.5],\n",
    "                                           'squeeze_strength': [0.4,2/3]},\n",
    "                               range_type={'segments': True, 'stretch_strength': False,\n",
    "                                           'squeeze_strength': False} # true = int, false = float\n",
    "                             )\n",
    "BatchEEGaug1 = Aug_warp(BatchEEG)\n",
    "BatchEEGaug2 = Aug_warp(BatchEEG)\n",
    "Sequence1= aug.SequentialAug(Aug_eye, Aug_warp)\n",
    "BatchEEGaug1 = Sequence1(BatchEEG)\n",
    "BatchEEGaug2 = Sequence1(BatchEEG)\n",
    "Sequence2= aug.RandomAug(Aug_eye, Aug_warp, p=[0.7, 0.3])\n",
    "BatchEEGaug1 = Sequence2(BatchEEG)\n",
    "BatchEEGaug2 = Sequence2(BatchEEG)\n",
    "\n",
    "# DEFINE AUGMENTER\n",
    "# FIRST RANDOM SELECTION: APPLY FLIP OR CHANGE REFERENCE OR NOTHING\n",
    "AUG_flipv = aug.StaticSingleAug(aug.flip_vertical)\n",
    "AUG_flipr = aug.StaticSingleAug(aug.flip_horizontal)\n",
    "AUG_id = aug.StaticSingleAug(aug.identity)\n",
    "Sequence1 = aug.RandomAug( AUG_id, AUG_flipv, AUG_id, p=[0.5, 0.25, 0.25])\n",
    "\n",
    "# SECOND RANDOM SELECTION: ADD SOME NOISE\n",
    "AUG_band = aug.DynamicSingleAug(aug.add_band_noise, \n",
    "                                 discrete_arg={'bandwidth': [\"delta\", \"theta\", \"alpha\", \"beta\", (30,49) ], \n",
    "                                               'samplerate': Fs,\n",
    "                                               'noise_range': 0.1\n",
    "                                              }\n",
    "                                )\n",
    "Aug_eye = aug.DynamicSingleAug(aug.add_eeg_artifact,\n",
    "                               discrete_arg = {'Fs': Fs, 'artifact': 'eye', 'batch_equal': False},\n",
    "                               range_arg= {'amplitude': [0.1,0.5]},\n",
    "                               range_type={'amplitude': False}\n",
    "                             )\n",
    "Sequence2 = aug.RandomAug( AUG_band, Aug_eye)\n",
    "\n",
    "# THIRD RANDOM SELECTION: CROP OR RANDOM PERMUTATION\n",
    "AUG_crop = aug.DynamicSingleAug(aug.crop_and_resize,\n",
    "                                discrete_arg={'batch_equal': False},\n",
    "                                range_arg ={'N_cut': [1, 4], 'segments': [10,15]},\n",
    "                                range_type ={'N_cut': True, 'segments': True})\n",
    "Sequence3 = aug.RandomAug( AUG_crop, Aug_warp)\n",
    "\n",
    "# FINAL AUGMENTER: SEQUENCE OF THE THREE RANDOM LISTS\n",
    "Augmenter = aug.SequentialAug(Sequence1, Sequence2, Sequence3)\n",
    "BatchEEGaug1 = Augmenter(BatchEEG)\n",
    "BatchEEGaug2 = Augmenter(BatchEEG)\n",
    "\n",
    "print('   augmentation composition OK')"
   ]
  }
 ],
 "metadata": {
  "kernelspec": {
   "display_name": "Python 3 (ipykernel)",
   "language": "python",
   "name": "python3"
  },
  "language_info": {
   "codemirror_mode": {
    "name": "ipython",
    "version": 3
   },
   "file_extension": ".py",
   "mimetype": "text/x-python",
   "name": "python",
   "nbconvert_exporter": "python",
   "pygments_lexer": "ipython3",
   "version": "3.11.4"
  }
 },
 "nbformat": 4,
 "nbformat_minor": 5
}
