{
 "cells": [
  {
   "cell_type": "code",
   "execution_count": 1,
   "id": "f88873f8-d613-4fd1-8415-a9681f5b1aab",
   "metadata": {},
   "outputs": [],
   "source": [
    "import os\n",
    "import random\n",
    "import pickle\n",
    "import sys\n",
    "sys.path.append(os.getcwd().split('/test')[0])\n",
    "import itertools\n",
    "import numpy as np\n",
    "from torch.utils.data import DataLoader\n",
    "from selfeeg import dataloading as dl\n",
    "import platform\n",
    "\n",
    "def create_dataset(folder_name='Simulated_EEG',\n",
    "                   data_len=[1024,4097], \n",
    "                   is3D=False, \n",
    "                   seed=1234):\n",
    "    N=1000\n",
    "    if not(os.path.isdir(folder_name)):\n",
    "        os.mkdir(folder_name)\n",
    "\n",
    "    np.random.seed(seed=seed)\n",
    "    for i in range(N):\n",
    "        if is3D:\n",
    "            x = np.random.randn(2,2,np.random.randint(data_len[0],data_len[1]))\n",
    "        else:\n",
    "            x = np.random.randn(2,np.random.randint(data_len[0],data_len[1]))\n",
    "        y = np.random.randint(1,5)\n",
    "        sample = {'data': x, 'label': y}\n",
    "        A, B, C = (int(i//200)+1), (int( (i - 200*int(i//200)))//5+1), (i%5+1)\n",
    "        file_name = 'Simulated_EEG/' + str(A) + '_' + str(B) + '_' + str(C) + '_1.pickle'\n",
    "        with open(file_name, 'wb') as f:\n",
    "            pickle.dump(sample, f)\n",
    "\n",
    "def loadEEG(path, return_label=False):\n",
    "    with open(path, 'rb') as handle:\n",
    "        EEG = pickle.load(handle)\n",
    "    x = EEG['data']\n",
    "    y = EEG['label']\n",
    "    if return_label:\n",
    "        return x, y\n",
    "    else:\n",
    "        return x\n",
    "\n",
    "def transformEEG(EEG, value=64):\n",
    "    EEG = EEG[:,:-value]\n",
    "    return EEG\n",
    "\n",
    "def makeGrid(pars_dict):  \n",
    "    keys=pars_dict.keys()\n",
    "    combinations=itertools.product(*pars_dict.values())\n",
    "    ds=[dict(zip(keys,cc)) for cc in combinations]\n",
    "    return ds"
   ]
  },
  {
   "cell_type": "code",
   "execution_count": 2,
   "id": "22d1cea8-fbf5-4459-8a2d-17f478fcedb8",
   "metadata": {},
   "outputs": [
    {
     "name": "stdout",
     "output_type": "stream",
     "text": [
      "---------------------------\n",
      "TESTING DATALOADING MODULE\n",
      "---------------------------\n"
     ]
    }
   ],
   "source": [
    "print('---------------------------')\n",
    "print('TESTING DATALOADING MODULE')\n",
    "print('the process will generetate two additional folders')\n",
    "print('---------------------------')"
   ]
  },
  {
   "cell_type": "code",
   "execution_count": 3,
   "id": "f3745b34-ac2b-4417-89bb-61cdbb1018ee",
   "metadata": {},
   "outputs": [
    {
     "name": "stdout",
     "output_type": "stream",
     "text": [
      "Testing GetEEGPartitionNumber...   GetEEGPartitionNumber OK: tested 16 combination of input arguments\n"
     ]
    }
   ],
   "source": [
    "# Define partition spec\n",
    "if not(os.path.isdir('tmpsave')):\n",
    "        os.mkdir('tmpsave')\n",
    "eegpath  = 'Simulated_EEG'\n",
    "freq     = 128        # sampling frequency in [Hz]\n",
    "overlap  = 0.15       # overlap between partitions\n",
    "window   = 2          # window length in [seconds]\n",
    "\n",
    "create_dataset()\n",
    "print('Testing GetEEGPartitionNumber...', end=\"\", flush=True)\n",
    "input_grid = {'EEGpath': [eegpath], 'freq': [freq], 'window': [2], 'overlap':[0,0.15],\n",
    "               'includePartial':[True,False],'file_format':['*.pickle'],'load_function':[loadEEG],\n",
    "              'optional_load_fun_args':[[False]],'transform_function':[transformEEG],\n",
    "              'optional_transform_fun_args':[[32]],'keep_zero_sample':[True,False],'save':[True,False],\n",
    "              'save_path':['tmpsave/results1.csv'],'verbose':[False]}\n",
    "input_grid = makeGrid(input_grid)\n",
    "for i in input_grid:\n",
    "    EEGlen = dl.GetEEGPartitionNumber(**i)\n",
    "print('   GetEEGPartitionNumber OK: tested', len(input_grid), 'combination of input arguments')"
   ]
  },
  {
   "cell_type": "code",
   "execution_count": 4,
   "id": "eb354fb3-3007-4068-b481-6c75114a0934",
   "metadata": {},
   "outputs": [
    {
     "name": "stdout",
     "output_type": "stream",
     "text": [
      "Testing GetEEGSplitTable...   GetEEGSplitTable OK: tested 3456 combination of input arguments\n"
     ]
    }
   ],
   "source": [
    "print('Testing GetEEGSplitTable...', end=\"\", flush=True)\n",
    "EEGlen = dl.GetEEGPartitionNumber(eegpath, freq, window, overlap, file_format='*.pickle', \n",
    "                                  load_function=loadEEG, optional_load_fun_args=[False],\n",
    "                                  transform_function=transformEEG )\n",
    "Labels = np.zeros(EEGlen.shape[0], dtype=int)\n",
    "for i in range(EEGlen.shape[0]):\n",
    "    _ , Labels[i] = loadEEG(EEGlen.iloc[i]['full_path'], True)\n",
    "\n",
    "input_grid = {'partition_table': [EEGlen], 'test_ratio': [0, 0.2], 'val_ratio': [0, 0.2], \n",
    "              'test_split_mode':[0,1,2], 'val_split_mode':[1,2],\n",
    "              'exclude_data_id':[None,{x:[13,23] for x in range(1,6)}],\n",
    "              'test_data_id':[None,{x:[14,22] for x in range(1,6)}, 4 ],\n",
    "              'val_data_id':[None,{x:[15,21] for x in range(1,6)},[3] ],\n",
    "              'val_ratio_on_all_data': [True,False], 'stratified':[False,True], 'labels':[Labels],\n",
    "              'dataset_id_extractor':[lambda x: int(x.split('_')[0])],\n",
    "              'subject_id_extractor':[None, lambda x: int(x.split('_')[0])],\n",
    "              'save':[True], 'split_tolerance':[0.005], 'perseverance':[5000],\n",
    "              'save_path':['tmpsave/results1.csv']\n",
    "             }\n",
    "input_grid = makeGrid(input_grid)\n",
    "for i in input_grid:\n",
    "    EEGsplit = dl.GetEEGSplitTable(**i)\n",
    "print('   GetEEGSplitTable OK: tested', len(input_grid), 'combination of input arguments')"
   ]
  },
  {
   "cell_type": "code",
   "execution_count": 5,
   "id": "c1e37bec-4bd0-4bf8-b35b-841689acf544",
   "metadata": {},
   "outputs": [
    {
     "name": "stdout",
     "output_type": "stream",
     "text": [
      "Testing GetEEGSplitTableKfold...   GetEEGSplitTableKfold OK: tested 192 combination of input arguments\n"
     ]
    }
   ],
   "source": [
    "print('Testing GetEEGSplitTableKfold...', end=\"\", flush=True)\n",
    "EEGlen = dl.GetEEGPartitionNumber(eegpath, freq, window, overlap, file_format='*.pickle', \n",
    "                                  load_function=loadEEG, optional_load_fun_args=[False],\n",
    "                                  transform_function=transformEEG )\n",
    "input_grid = {'partition_table': [EEGlen], 'test_ratio': [0, 0.2], 'kfold': [5,10], \n",
    "              'test_split_mode':[1,2], 'val_split_mode':[1,2],\n",
    "              'exclude_data_id':[None,{x:[13,23] for x in range(1,6)}],\n",
    "              'test_data_id':[None,{x:[14,22] for x in range(1,6)}, 4 ],\n",
    "              'stratified':[False,True], 'labels':[Labels],\n",
    "              'save':[True], 'split_tolerance':[0.005], 'perseverance':[5000],\n",
    "              'save_path':['tmpsave/results1.csv']\n",
    "             }\n",
    "input_grid = makeGrid(input_grid)\n",
    "for i in input_grid:\n",
    "    EEGsplit = dl.GetEEGSplitTableKfold(**i)\n",
    "print('   GetEEGSplitTableKfold OK: tested', len(input_grid), 'combination of input arguments')"
   ]
  },
  {
   "cell_type": "code",
   "execution_count": 6,
   "id": "5b43e2f4-afac-42f3-aad8-2a5a53c29319",
   "metadata": {},
   "outputs": [
    {
     "name": "stdout",
     "output_type": "stream",
     "text": [
      "Testing EEGDataset on both unsupervised and supervised mode...   EEGDataset OK\n"
     ]
    }
   ],
   "source": [
    "print('Testing EEGDataset on both unsupervised and supervised mode...', end=\"\", flush=True)\n",
    "EEGlen = dl.GetEEGPartitionNumber(eegpath, freq, window, overlap, file_format='*.pickle', \n",
    "                                  load_function=loadEEG, optional_load_fun_args=[False],\n",
    "                                  transform_function=transformEEG )\n",
    "EEGsplit = dl.GetEEGSplitTable(EEGlen, \n",
    "                               test_ratio=0.1, val_ratio=0.1,\n",
    "                               test_split_mode='file', val_split_mode= 'file',\n",
    "                               stratified=True, labels=Labels,\n",
    "                               perseverance=5000, split_tolerance=0.005\n",
    "                              )\n",
    "dataset_pretrain = dl.EEGDataset(EEGlen, EEGsplit, \n",
    "                                 [freq, window, overlap], # split parameters must be given as list\n",
    "                                 mode = 'train', #default, select all samples in the train set\n",
    "                                 load_function = loadEEG, \n",
    "                                 transform_function=transformEEG\n",
    "                                )\n",
    "sample_1 = dataset_pretrain.__getitem__(0)\n",
    "dataset_finetune = dl.EEGDataset(EEGlen, EEGsplit, \n",
    "                                 [freq, window, overlap], # split parameters must be given as list\n",
    "                                 mode = 'train', #default, select all samples in the train set\n",
    "                                 supervised = True, # !IMPORTANT!\n",
    "                                 load_function = loadEEG,\n",
    "                                 optional_load_fun_args= [True], #tells loadEEG to return a label\n",
    "                                 transform_function=transformEEG,\n",
    "                                 label_on_load=True, #default, \n",
    "                                )\n",
    "sample_2, label_2 = dataset_finetune.__getitem__(0)\n",
    "print('   EEGDataset OK')"
   ]
  },
  {
   "cell_type": "code",
   "execution_count": 7,
   "id": "bdbec138-2d10-45b6-bfe9-f1bec74f4e8f",
   "metadata": {},
   "outputs": [
    {
     "name": "stdout",
     "output_type": "stream",
     "text": [
      "Testing Sampler on both mode...   EEGDataset OK\n"
     ]
    }
   ],
   "source": [
    "print('Testing Sampler on both mode...', end=\"\", flush=True)\n",
    "sampler_linear = dl.EEGsampler(dataset_pretrain, Mode=0)\n",
    "sampler_custom = dl.EEGsampler(dataset_pretrain, 16, 4)\n",
    "print('   EEGDataset OK')"
   ]
  },
  {
   "cell_type": "code",
   "execution_count": 8,
   "id": "a002d234-b62f-4885-8736-371d84466a76",
   "metadata": {},
   "outputs": [
    {
     "name": "stdout",
     "output_type": "stream",
     "text": [
      "Testing Dataloader batch construction...   Dataloader OK\n"
     ]
    }
   ],
   "source": [
    "print('Testing Dataloader batch construction...', end=\"\", flush=True)\n",
    "Final_Dataloader = DataLoader( dataset = dataset_pretrain, \n",
    "                               batch_size= 16, \n",
    "                               sampler=sampler_custom, \n",
    "                               num_workers=4)\n",
    "for X in Final_Dataloader:\n",
    "    pass\n",
    "print('   Dataloader OK')"
   ]
  }
 ],
 "metadata": {
  "kernelspec": {
   "display_name": "Python 3 (ipykernel)",
   "language": "python",
   "name": "python3"
  },
  "language_info": {
   "codemirror_mode": {
    "name": "ipython",
    "version": 3
   },
   "file_extension": ".py",
   "mimetype": "text/x-python",
   "name": "python",
   "nbconvert_exporter": "python",
   "pygments_lexer": "ipython3",
   "version": "3.11.4"
  }
 },
 "nbformat": 4,
 "nbformat_minor": 5
}
