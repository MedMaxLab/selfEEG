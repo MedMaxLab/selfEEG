{
 "cells": [
  {
   "cell_type": "code",
   "execution_count": null,
   "id": "f88873f8-d613-4fd1-8415-a9681f5b1aab",
   "metadata": {},
   "outputs": [],
   "source": [
    "import os\n",
    "import sys\n",
    "sys.path.append(os.getcwd().split('/Notebooks/test_notebook')[0])\n",
    "import itertools\n",
    "import numpy as np\n",
    "import torch\n",
    "\n",
    "from selfeeg import losses\n",
    "\n",
    "def makeGrid(pars_dict):  \n",
    "    keys=pars_dict.keys()\n",
    "    combinations=itertools.product(*pars_dict.values())\n",
    "    ds=[dict(zip(keys,cc)) for cc in combinations]\n",
    "    return ds\n",
    "\n",
    "device  = torch.device(\"mps\") if torch.backends.mps.is_available() else torch.device(\"cpu\")\n",
    "if device.type == 'cpu':\n",
    "    device  = torch.device(\"cuda\") if torch.cuda.is_available() else torch.device(\"cpu\")\n",
    "N       = 64\n",
    "Feat    = 128\n",
    "x  = torch.randn(N,Feat)\n",
    "y  = torch.randn(N,Feat)\n",
    "p  = torch.randn(N,Feat)\n",
    "z  = torch.randn(N,Feat)\n",
    "u  = torch.randn(Feat, 1024)\n",
    "\n",
    "if device.type != 'cpu':\n",
    "    x2  = torch.randn(N,Feat).to(device=device)\n",
    "    y2  = torch.randn(N,Feat).to(device=device)\n",
    "    p2  = torch.randn(N,Feat).to(device=device)\n",
    "    z2  = torch.randn(N,Feat).to(device=device)\n",
    "    u2  = torch.randn(Feat, 1024).to(device=device)"
   ]
  },
  {
   "cell_type": "code",
   "execution_count": null,
   "id": "3e9ae27c-dc40-4e56-97cb-556ac7752265",
   "metadata": {},
   "outputs": [],
   "source": [
    "print('---------------------')\n",
    "print('TESTING LOSSES MODULE')\n",
    "if device.type != 'cpu':\n",
    "    print('Found cuda device: testing nn.modules with both cpu and gpu')\n",
    "else:\n",
    "    print('Didn\\'t found cuda device: testing lossess with only cpu')\n",
    "print('---------------------')"
   ]
  },
  {
   "cell_type": "code",
   "execution_count": null,
   "id": "0839fe0e-2b47-4610-97d5-e1a27ce43c13",
   "metadata": {},
   "outputs": [],
   "source": [
    "print('Testing Barlow Loss...', end=\"\", flush=True)\n",
    "Barlow_args = {'z1': [x],'z2': [y,None], 'lambda_coeff': [0.005, 0.05, 0.5, 1]}\n",
    "Barlow_args = makeGrid(Barlow_args)\n",
    "for i in Barlow_args:\n",
    "    loss = losses.Barlow_loss(**i)\n",
    "\n",
    "if device.type != 'cpu':\n",
    "    Barlow_args = {'z1': [x2],'z2': [y2,None], 'lambda_coeff': [0.005, 0.05, 0.5, 1]}\n",
    "    Barlow_args = makeGrid(Barlow_args)\n",
    "    for i in Barlow_args:\n",
    "        loss = losses.Barlow_loss(**i)\n",
    "print('   Barlow Loss OK: tested', len(Barlow_args), 'combinations of input arguments')"
   ]
  },
  {
   "cell_type": "code",
   "execution_count": null,
   "id": "5ed1db2b-dcf9-4446-ae89-20357a17e520",
   "metadata": {},
   "outputs": [],
   "source": [
    "print('Testing BYOL Loss...', end=\"\", flush=True)\n",
    "BYOL_args = {'z1': [x],'z2': [y],'p1': [p],'p2': [z], 'projections_norm': [True,False]}\n",
    "BYOL_args = makeGrid(BYOL_args)\n",
    "for i in BYOL_args:\n",
    "    loss = losses.BYOL_loss(**i)\n",
    "\n",
    "if device.type != 'cpu':\n",
    "    BYOL_args = {'z1': [x2],'z2': [y2],'p1': [p2],'p2': [z2], 'projections_norm': [True,False]}\n",
    "    BYOL_args = makeGrid(BYOL_args)\n",
    "    for i in BYOL_args:\n",
    "        loss = losses.BYOL_loss(**i)\n",
    "print('   BYOL Loss OK: tested', len(BYOL_args), 'combinations of input arguments')"
   ]
  },
  {
   "cell_type": "code",
   "execution_count": null,
   "id": "ee4fce37-dce0-467e-8ec9-d0f170fef388",
   "metadata": {},
   "outputs": [],
   "source": [
    "print('Testing SimCLR Loss...', end=\"\", flush=True)\n",
    "SimCLR_args = {'projections': [x],'temperature':[0.15, 0.5, 0.7], 'projections_norm': [True,False]}\n",
    "SimCLR_args = makeGrid(SimCLR_args)\n",
    "for i in SimCLR_args:\n",
    "    loss = losses.SimCLR_loss(**i)\n",
    "\n",
    "if device.type != 'cpu':\n",
    "    SimCLR_args = {'projections': [x],'temperature':[0.15, 0.5, 0.7], 'projections_norm': [True,False]}\n",
    "    SimCLR_args = makeGrid(SimCLR_args)\n",
    "    for i in SimCLR_args:\n",
    "        loss = losses.SimCLR_loss(**i)\n",
    "print('   SimCLR Loss OK: tested', len(SimCLR_args), 'combinations of input arguments')"
   ]
  },
  {
   "cell_type": "code",
   "execution_count": null,
   "id": "8bb8b426-bba0-4d21-b4dd-b93cc47b5572",
   "metadata": {},
   "outputs": [],
   "source": [
    "print('Testing SimSiam Loss...', end=\"\", flush=True)\n",
    "Siam_args = {'z1': [x],'z2': [y],'p1': [p],'p2': [z], 'projections_norm': [True,False]}\n",
    "Siam_args = makeGrid(Siam_args)\n",
    "for i in Siam_args:\n",
    "    loss = losses.SimSiam_loss(**i)\n",
    "\n",
    "if device.type != 'cpu':\n",
    "    Siam_args = {'z1': [x2],'z2': [y2],'p1': [p2],'p2': [z2], 'projections_norm': [True,False]}\n",
    "    Siam_args = makeGrid(Siam_args)\n",
    "    for i in Siam_args:\n",
    "        loss = losses.SimSiam_loss(**i)\n",
    "print('   BYOL Loss OK: tested', len(Siam_args), 'combinations of input arguments')"
   ]
  },
  {
   "cell_type": "code",
   "execution_count": null,
   "id": "03ffe22d-1dd9-46fa-a3d2-2614c158afd2",
   "metadata": {},
   "outputs": [],
   "source": [
    "print('Testing VICReg Loss...', end=\"\", flush=True)\n",
    "Vicreg_args = {'z1': [x],'z2': [y,None], 'Lambda': [25,10,50],'Mu': [25,5,50], 'Nu': [2,1,0.5]}\n",
    "Vicreg_args = makeGrid(Vicreg_args)\n",
    "for i in Vicreg_args:\n",
    "    loss = losses.VICReg_loss(**i)\n",
    "\n",
    "if device.type != 'cpu':\n",
    "    Vicreg_args = {'z1': [x2],'z2': [y2,None], 'Lambda': [25,10,50],'Mu': [25,5,50], 'Nu': [2,1,0.5]}\n",
    "    Vicreg_args = makeGrid(Vicreg_args)\n",
    "    for i in Vicreg_args:\n",
    "        loss = losses.VICReg_loss(**i)\n",
    "print('   VICReg Loss OK: tested', len(Vicreg_args), 'combinations of input arguments')"
   ]
  },
  {
   "cell_type": "code",
   "execution_count": null,
   "id": "e314dc47-ec2d-44b8-b64c-2f4f5d6e28ce",
   "metadata": {},
   "outputs": [],
   "source": [
    "print('Testing MoCo Loss...', end=\"\", flush=True)\n",
    "Moco_args = {'q': [x],'k': [y], 'queue': [None, u],\n",
    "             'projections_norm': [True, False], 'temperature': [0.15, 0.5, 0.9]}\n",
    "Moco_args = makeGrid(Moco_args)\n",
    "for i in Moco_args:\n",
    "    loss = losses.Moco_loss(**i)\n",
    "\n",
    "if device.type != 'cpu':\n",
    "    Moco_args = {'q': [x],'k': [y], 'queue': [None, u],\n",
    "                 'projections_norm': [True, False], 'temperature': [0.15, 0.5, 0.9]}\n",
    "    Moco_args = makeGrid(Moco_args)\n",
    "    for i in Moco_args:\n",
    "        loss = losses.Moco_loss(**i)\n",
    "print('   MoCo Loss OK: tested', len(Moco_args), 'combinations of input arguments')"
   ]
  }
 ],
 "metadata": {
  "kernelspec": {
   "display_name": "Python 3 (ipykernel)",
   "language": "python",
   "name": "python3"
  },
  "language_info": {
   "codemirror_mode": {
    "name": "ipython",
    "version": 3
   },
   "file_extension": ".py",
   "mimetype": "text/x-python",
   "name": "python",
   "nbconvert_exporter": "python",
   "pygments_lexer": "ipython3",
   "version": "3.11.6"
  }
 },
 "nbformat": 4,
 "nbformat_minor": 5
}
