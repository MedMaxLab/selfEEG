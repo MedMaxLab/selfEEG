{
 "cells": [
  {
   "cell_type": "code",
   "execution_count": 1,
   "id": "f88873f8-d613-4fd1-8415-a9681f5b1aab",
   "metadata": {},
   "outputs": [],
   "source": [
    "import os\n",
    "import sys\n",
    "sys.path.append(os.getcwd().split('/test')[0])\n",
    "import itertools\n",
    "import numpy as np\n",
    "import torch\n",
    "\n",
    "from selfeeg import models\n",
    "\n",
    "def makeGrid(pars_dict):  \n",
    "    keys=pars_dict.keys()\n",
    "    combinations=itertools.product(*pars_dict.values())\n",
    "    ds=[dict(zip(keys,cc)) for cc in combinations]\n",
    "    return ds\n",
    "\n",
    "device  = torch.device(\"cuda\") if torch.cuda.is_available() else torch.device(\"cpu\")\n",
    "N       = 2\n",
    "Chan    = 8\n",
    "Samples = 2048\n",
    "x   = torch.randn(N,Chan,Samples)\n",
    "xl  = torch.randn(N,1,16,Samples)\n",
    "xst = torch.randn(N,Samples,11,11)\n",
    "xd  = torch.randn(N,128)\n",
    "\n",
    "if device.type != 'cpu':\n",
    "    x2  = torch.randn(N,Chan,Samples).to(device=device)\n",
    "    xl2 = torch.randn(N,1,16,Samples).to(device=device) \n",
    "    xst = torch.randn(N,Samples,11,11).to(device=device)\n",
    "    xd2 = torch.randn(N,128).to(device=device)"
   ]
  },
  {
   "cell_type": "code",
   "execution_count": 20,
   "id": "ad1b99ef-9b8e-4bc2-863c-80ac57b808e0",
   "metadata": {},
   "outputs": [
    {
     "name": "stdout",
     "output_type": "stream",
     "text": [
      "---------------------\n",
      "TESTING MODELS MODULE\n",
      "Found cuda device: testing nn.modules with both cpu and gpu (gpu load will be 3GB)\n",
      "---------------------\n"
     ]
    }
   ],
   "source": [
    "print('---------------------')\n",
    "print('TESTING MODELS MODULE')\n",
    "if device.type != 'cpu':\n",
    "    print('Found cuda device: testing nn.modules with both cpu and gpu (gpu load will be 3GB)')\n",
    "else:\n",
    "    print('Didn\\'t found cuda device: testing nn.modules with only cpu')\n",
    "print('---------------------')"
   ]
  },
  {
   "cell_type": "code",
   "execution_count": 2,
   "id": "f44b4f01-898a-47b4-a105-01431ae8e835",
   "metadata": {},
   "outputs": [
    {
     "name": "stdout",
     "output_type": "stream",
     "text": [
      "Testing Depthwise conv2d with max norm constraint...   Depthwise conv2d OK: tested 324  combinations of input arguments\n"
     ]
    }
   ],
   "source": [
    "print('Testing Depthwise conv2d with max norm constraint...', end=\"\", flush=True)\n",
    "Depthwise_args = {'in_channels': [1],'depth_multiplier':[2,3,4], 'kernel_size': [(1,64),(5,1),(5,64)], 'stride':[1,2,3],\n",
    "                 'dilation':[1,2], 'bias': [True, False], 'max_norm':[None, 2, 3], 'padding': ['valid']\n",
    "                }\n",
    "Depthwise_args = makeGrid(Depthwise_args)\n",
    "for i in Depthwise_args:\n",
    "    model = models.DepthwiseConv2d(**i)\n",
    "    model.weight = torch.nn.Parameter(model.weight*10)\n",
    "    model(xl)\n",
    "    if i['max_norm'] is not None:\n",
    "        norm= model.weight.norm(dim=2, keepdim=True).norm(dim=3,keepdim=True).squeeze()\n",
    "        assert (norm>i['max_norm']).sum() == 0\n",
    "\n",
    "if device.type != 'cpu':\n",
    "    for i in Depthwise_args:\n",
    "        model = models.DepthwiseConv2d(**i).to(device=device)\n",
    "        model.weight = torch.nn.Parameter(model.weight*10)\n",
    "        model(xl2)\n",
    "        if i['max_norm'] is not None:\n",
    "            norm= model.weight.norm(dim=2, keepdim=True).norm(dim=3,keepdim=True).squeeze()\n",
    "            assert (norm>i['max_norm']).sum() == 0\n",
    "print('   Depthwise conv2d OK: tested', len(Depthwise_args), ' combinations of input arguments') "
   ]
  },
  {
   "cell_type": "code",
   "execution_count": 3,
   "id": "70958211-c627-491d-8287-b92836740896",
   "metadata": {},
   "outputs": [
    {
     "name": "stdout",
     "output_type": "stream",
     "text": [
      "Testing Separable conv2d with norm constraint...   Separable conv2d OK: tested 324 combinations of input arguments\n"
     ]
    }
   ],
   "source": [
    "print('Testing Separable conv2d with norm constraint...', end=\"\", flush=True)\n",
    "Separable_args = {'in_channels': [1],'out_channels': [5,16],\n",
    "                  'depth_multiplier':[1,3], 'kernel_size': [(1,64),(5,1),(5,64)], 'stride':[1,2,3],\n",
    "                  'dilation':[1,2], 'bias': [True, False], 'depth_max_norm':[None, 2, 3], 'padding': ['valid']\n",
    "                 }\n",
    "Separable_args = makeGrid(Separable_args)\n",
    "for i in Separable_args:\n",
    "    model = models.SeparableConv2d(**i)\n",
    "    model(xl)\n",
    "\n",
    "if device.type != 'cpu':\n",
    "    for i in Separable_args:\n",
    "        model = models.SeparableConv2d(**i).to(device=device)\n",
    "        model(xl2)\n",
    "\n",
    "print('   Separable conv2d OK: tested', len(Depthwise_args), 'combinations of input arguments') "
   ]
  },
  {
   "cell_type": "code",
   "execution_count": 4,
   "id": "b1cd64b2-3a86-41cf-bad5-136f7c95d322",
   "metadata": {},
   "outputs": [
    {
     "name": "stdout",
     "output_type": "stream",
     "text": [
      "Testing conv2d with max norm constraint...   Depthwise conv2d OK: tested 324  combinations of input arguments\n"
     ]
    }
   ],
   "source": [
    "print('Testing conv2d with max norm constraint...', end=\"\", flush=True)\n",
    "Conv_args = {'in_channels': [1],'out_channels':[5,16], 'kernel_size': [(1,64),(5,1),(5,64)], \n",
    "             'stride':[1,2,3], 'dilation':[1,2], 'bias': [True, False], 'max_norm':[None, 2, 3], \n",
    "             'padding': ['valid']\n",
    "            }\n",
    "Conv_args = makeGrid(Conv_args)\n",
    "for i in Conv_args:\n",
    "    model = models.ConstrainedConv2d(**i)\n",
    "    model.weight = torch.nn.Parameter(model.weight*10)\n",
    "    model(xl)\n",
    "    if i['max_norm'] is not None:\n",
    "        norm= model.weight.norm(dim=2, keepdim=True).norm(dim=3,keepdim=True).squeeze()\n",
    "        assert (norm>i['max_norm']).sum() == 0\n",
    "\n",
    "if device.type != 'cpu':\n",
    "    for i in Conv_args:\n",
    "        model = models.ConstrainedConv2d(**i).to(device=device)\n",
    "        model.weight = torch.nn.Parameter(model.weight*10)\n",
    "        model(xl2)\n",
    "        if i['max_norm'] is not None:\n",
    "            norm= model.weight.norm(dim=2, keepdim=True).norm(dim=3,keepdim=True).squeeze()\n",
    "            assert (norm>i['max_norm']).sum() == 0\n",
    "print('   Depthwise conv2d OK: tested', len(Depthwise_args), ' combinations of input arguments') "
   ]
  },
  {
   "cell_type": "code",
   "execution_count": 5,
   "id": "309ece58-c58a-46b6-b7ee-dcd440a02075",
   "metadata": {},
   "outputs": [
    {
     "name": "stdout",
     "output_type": "stream",
     "text": [
      "Testing Dense layer with max norm constraint...   Dense layer OK: tested 6  combinations of input arguments\n"
     ]
    }
   ],
   "source": [
    "print('Testing Dense layer with max norm constraint...', end=\"\", flush=True)\n",
    "Dense_args = {'in_features': [128],'out_features':[32], \n",
    "              'bias': [True,False], 'max_norm':[None, 2, 3]}\n",
    "Dense_args = makeGrid(Dense_args)\n",
    "for i in Dense_args:\n",
    "    model = models.ConstrainedDense(**i)\n",
    "    model.weight = torch.nn.Parameter(model.weight*10)\n",
    "    model(xd)\n",
    "    if i['max_norm'] is not None:\n",
    "        norm= model.weight.norm(dim=1, keepdim=True)\n",
    "        assert (norm>i['max_norm']).sum() == 0\n",
    "\n",
    "for i in Dense_args:\n",
    "    model = models.ConstrainedDense(**i).to(device=device)\n",
    "    model.weight = torch.nn.Parameter(model.weight*10)\n",
    "    model(xd2)\n",
    "    if i['max_norm'] is not None:\n",
    "        norm= model.weight.norm(dim=1, keepdim=True)\n",
    "        assert (norm>i['max_norm']).sum() == 0\n",
    "print('   Dense layer OK: tested', len(Dense_args), ' combinations of input arguments') "
   ]
  },
  {
   "cell_type": "code",
   "execution_count": 6,
   "id": "74a05461-1e9a-49cd-b1ec-e2443f329a45",
   "metadata": {},
   "outputs": [
    {
     "name": "stdout",
     "output_type": "stream",
     "text": [
      "Testing DeepConvNet...   DeepConvNet OK: tested  64  combinations of input arguments\n"
     ]
    }
   ],
   "source": [
    "print('Testing DeepConvNet...', end=\"\", flush=True)\n",
    "DCN_args = {'nb_classes': [2,4], 'Chans': [Chan], \n",
    "            'Samples': [Samples], 'kernLength':[10,20], \n",
    "            'F': [12,25], 'Pool': [3,4], 'stride': [3,4], 'max_norm': [2.0], \n",
    "            'batch_momentum': [0.9], 'ELUalpha': [1], 'dropRate': [0.5], \n",
    "            'max_dense_norm': [1.0], 'return_logits': [True,False]\n",
    "           }\n",
    "DCN_grid = makeGrid(DCN_args)\n",
    "for i in DCN_grid:\n",
    "    model = models.DeepConvNet(**i)\n",
    "    model(x)\n",
    "if device.type != 'cpu':\n",
    "    for i in DCN_grid:\n",
    "        model = models.DeepConvNet(**i).to(device=device)\n",
    "        model(x2)\n",
    "print('   DeepConvNet OK: tested ', len(DCN_grid), ' combinations of input arguments')"
   ]
  },
  {
   "cell_type": "code",
   "execution_count": 7,
   "id": "53932d2d-a02e-4d9a-9aee-c9f46d101c42",
   "metadata": {},
   "outputs": [
    {
     "name": "stdout",
     "output_type": "stream",
     "text": [
      "Testing EEGInception..."
     ]
    },
    {
     "name": "stderr",
     "output_type": "stream",
     "text": [
      "/home/delpup/miniconda3/envs/selfdlp/lib/python3.11/site-packages/torch/nn/modules/conv.py:459: UserWarning: Using padding='same' with even kernel lengths and odd dilation may require a zero-padded copy of the input be created (Triggered internally at /opt/conda/conda-bld/pytorch_1682343995622/work/aten/src/ATen/native/Convolution.cpp:1003.)\n",
      "  return F.conv2d(input, weight, bias, self.stride,\n"
     ]
    },
    {
     "name": "stdout",
     "output_type": "stream",
     "text": [
      "   EEGInception OK: tested 128  combinations of input arguments\n"
     ]
    }
   ],
   "source": [
    "print('Testing EEGInception...', end=\"\", flush=True)\n",
    "EEGin_args = {'nb_classes': [2,4], 'Chans': [Chan], \n",
    "            'Samples': [Samples], 'kernel_size':[32,128], \n",
    "            'F1': [4,16], 'D': [2,4], 'pool': [4, 8],\n",
    "            'batch_momentum': [0.9], 'dropRate': [0.5], \n",
    "            'max_depth_norm': [1.0], 'return_logits': [True,False], 'bias':[True,False]\n",
    "           }\n",
    "EEGin_args = makeGrid(EEGin_args)\n",
    "for i in EEGin_args:\n",
    "    model = models.EEGInception(**i)\n",
    "    model(x)\n",
    "\n",
    "if device.type != 'cpu':\n",
    "    for i in EEGin_args:\n",
    "        model = models.EEGInception(**i).to(device=device)\n",
    "        model(x2)\n",
    "print('   EEGInception OK: tested', len(EEGin_args), ' combinations of input arguments')"
   ]
  },
  {
   "cell_type": "code",
   "execution_count": 8,
   "id": "8a09fd63-5d05-45bd-ad39-b0f2fbb7af1a",
   "metadata": {},
   "outputs": [
    {
     "name": "stdout",
     "output_type": "stream",
     "text": [
      "Testing EEGnet...   EEGnet OK: tested 1728  combinations of input arguments\n"
     ]
    }
   ],
   "source": [
    "print('Testing EEGnet...', end=\"\", flush=True)\n",
    "EEGnet_args = {'nb_classes': [2,4], 'Chans': [Chan], \n",
    "               'Samples': [Samples], 'kernLength':[32,64,128], \n",
    "               'F1': [4,8,16], 'D': [2,4], 'F2':[8,16,32], 'pool1': [4, 8],\n",
    "               'pool2':[8,16], 'separable_kernel':[16,32],\n",
    "               'return_logits': [True,False]\n",
    "              }\n",
    "EEGnet_args = makeGrid(EEGnet_args)\n",
    "for i in EEGnet_args:\n",
    "    model = models.EEGNet(**i)\n",
    "    model(x)\n",
    "\n",
    "if device.type != 'cpu':\n",
    "    for i in EEGnet_args:\n",
    "        model = models.EEGNet(**i).to(device=device)\n",
    "        model(x2)\n",
    "print('   EEGnet OK: tested', len(EEGnet_args), ' combinations of input arguments')"
   ]
  },
  {
   "cell_type": "code",
   "execution_count": 9,
   "id": "681c9611-e959-4503-9ffd-3c9bbd17e8e0",
   "metadata": {},
   "outputs": [
    {
     "name": "stdout",
     "output_type": "stream",
     "text": [
      "Testing EEGsym...   EEGsym OK: tested 256  combinations of input arguments\n"
     ]
    }
   ],
   "source": [
    "print('Testing EEGsym...', end=\"\", flush=True)\n",
    "EEGsym_args = {'nb_classes': [2,4],'Samples':[2048], 'Chans': [Chan], \n",
    "               'Fs': [64], 'scales_time':[(500,250,125),(250,183,95)], \n",
    "               'lateral_chans': [2,3], 'first_left': [True,False], 'F':[8,24],\n",
    "               'pool':[2,3],\n",
    "               'bias':[True,False],\n",
    "               'return_logits': [True,False]\n",
    "              }\n",
    "EEGsym_args = makeGrid(EEGsym_args)\n",
    "for i in EEGsym_args:\n",
    "    model = models.EEGSym(**i)\n",
    "    model(x)\n",
    "\n",
    "if device.type != 'cpu':\n",
    "    for i in EEGsym_args:\n",
    "        model = models.EEGSym(**i).to(device=device)\n",
    "        model(x2)\n",
    "print('   EEGsym OK: tested', len(EEGsym_args), ' combinations of input arguments')"
   ]
  },
  {
   "cell_type": "code",
   "execution_count": 10,
   "id": "5943fb85-0b16-4f30-bd4d-b80396242f2b",
   "metadata": {},
   "outputs": [
    {
     "name": "stdout",
     "output_type": "stream",
     "text": [
      "Testing ResNet...   ResNet OK: tested 216  combinations of input arguments\n"
     ]
    }
   ],
   "source": [
    "print('Testing ResNet...', end=\"\", flush=True)\n",
    "EEGres_args = {'nb_classes': [2,4],'Samples':[2048], 'Chans': [Chan],\n",
    "               'block':[models.BasicBlock1], \n",
    "               'Layers': [[1,1,1,1],[2,2,2,2],[1,2,4,3]], 'inplane':[8,16,32], \n",
    "               'kernLength': [7,13,15], 'addConnection': [True, False],\n",
    "               'return_logits': [True,False]\n",
    "              }\n",
    "EEGres_args = makeGrid(EEGres_args)\n",
    "for i in EEGres_args:\n",
    "    model = models.ResNet1D(**i)\n",
    "    model(x)\n",
    "\n",
    "if device.type != 'cpu':\n",
    "    for i in EEGres_args:\n",
    "        model = models.ResNet1D(**i).to(device=device)\n",
    "        model(x2)\n",
    "print('   ResNet OK: tested', len(EEGres_args), ' combinations of input arguments')"
   ]
  },
  {
   "cell_type": "code",
   "execution_count": 11,
   "id": "aa62eab8-9531-40bc-9196-6be25048dafd",
   "metadata": {},
   "outputs": [
    {
     "name": "stdout",
     "output_type": "stream",
     "text": [
      "Testing ShallowNet...   ShallowNet OK: tested 108  combinations of input arguments\n"
     ]
    }
   ],
   "source": [
    "print('Testing ShallowNet...', end=\"\", flush=True)\n",
    "EEGsha_args = {'nb_classes': [2,4],'Samples':[2048], 'Chans': [Chan],\n",
    "               'F': [20,40,80], 'K1':[25,12,50], \n",
    "               'Pool': [75,50,100],\n",
    "               'return_logits': [True,False]\n",
    "              }\n",
    "EEGsha_args = makeGrid(EEGsha_args)\n",
    "for i in EEGsha_args:\n",
    "    model = models.ShallowNet(**i)\n",
    "    model(x)\n",
    "\n",
    "if device.type != 'cpu':\n",
    "    for i in EEGsha_args:\n",
    "        model = models.ShallowNet(**i).to(device=device)\n",
    "        model(x2)\n",
    "print('   ShallowNet OK: tested', len(EEGsha_args), ' combinations of input arguments')"
   ]
  },
  {
   "cell_type": "code",
   "execution_count": 12,
   "id": "3ecd6167-0d49-47fd-9120-11821c02bf4d",
   "metadata": {},
   "outputs": [
    {
     "name": "stdout",
     "output_type": "stream",
     "text": [
      "Testing StageRNet...   StageRNet OK: tested 108  combinations of input arguments\n"
     ]
    }
   ],
   "source": [
    "print('Testing StageRNet...', end=\"\", flush=True)\n",
    "EEGsta_args = {'nb_classes': [2,4],'Samples':[2048], 'Chans': [Chan],\n",
    "               'F': [8,16,4], 'kernLength':[64,32,120], \n",
    "               'Pool': [16,30,8],\n",
    "               'return_logits': [True,False]\n",
    "              }\n",
    "EEGsta_args = makeGrid(EEGsta_args)\n",
    "for i in EEGsta_args:\n",
    "    model = models.StagerNet(**i)\n",
    "    model(x)\n",
    "\n",
    "if device.type != 'cpu':\n",
    "    for i in EEGsta_args:\n",
    "        model = models.StagerNet(**i).to(device=device)\n",
    "        model(x2)\n",
    "print('   StageRNet OK: tested', len(EEGsha_args), ' combinations of input arguments')"
   ]
  },
  {
   "cell_type": "code",
   "execution_count": 13,
   "id": "a436a3b0-d271-4169-8009-510b5b808ae7",
   "metadata": {},
   "outputs": [
    {
     "name": "stdout",
     "output_type": "stream",
     "text": [
      "Testing STNet...   STNet OK: tested 96  combinations of input arguments\n"
     ]
    }
   ],
   "source": [
    "print('Testing STNet...', end=\"\", flush=True)\n",
    "EEGstn_args = {'nb_classes': [2,4],'Samples':[2048], 'grid_size': [5,9],\n",
    "               'F': [256,512,64], 'kernlength':[5,7], 'dense_size':[1024,512],\n",
    "               'return_logits': [True,False]\n",
    "              }\n",
    "EEGstn_args = makeGrid(EEGstn_args)\n",
    "for i in EEGstn_args:\n",
    "    model = models.STNet(**i)\n",
    "    xst = torch.randn(N,Samples,i['grid_size'],i['grid_size'])\n",
    "    model(xst)\n",
    "\n",
    "if device.type != 'cpu':\n",
    "    for i in EEGstn_args:\n",
    "        model = models.STNet(**i).to(device=device)\n",
    "        xst2 = torch.randn(N,Samples,i['grid_size'],i['grid_size']).to(device=device)\n",
    "        model(xst2)\n",
    "print('   STNet OK: tested', len(EEGstn_args), ' combinations of input arguments')"
   ]
  },
  {
   "cell_type": "code",
   "execution_count": 14,
   "id": "49e13972-4232-4c62-8e68-befe7b69ab01",
   "metadata": {},
   "outputs": [
    {
     "name": "stdout",
     "output_type": "stream",
     "text": [
      "Testing TinySleepNet...   TinySleepNet OK: tested 216  combinations of input arguments\n"
     ]
    }
   ],
   "source": [
    "print('Testing TinySleepNet...', end=\"\", flush=True)\n",
    "#nb_classes, Chans, Fs, F=128, kernlength=8, pool=8, \n",
    "#dropRate=0.5, batch_momentum=0.1, max_dense_norm=2.0, return_logits=True\n",
    "EEGsleep_args = {'nb_classes': [2,4],'Chans':[Chan], 'Fs': [64], 'F':[128,64,32],\n",
    "                 'kernlength':[8,16,30], 'pool': [16,5,8], 'hidden_lstm': [128,50],\n",
    "                 'return_logits': [True,False]\n",
    "                }\n",
    "EEGsleep_args = makeGrid(EEGsleep_args)\n",
    "for i in EEGsleep_args:\n",
    "    model = models.TinySleepNet(**i)\n",
    "    model(x)\n",
    "\n",
    "if device.type != 'cpu':\n",
    "    for i in EEGsleep_args:\n",
    "        model = models.TinySleepNet(**i).to(device=device)\n",
    "        model(x2)\n",
    "print('   TinySleepNet OK: tested', len(EEGsleep_args), ' combinations of input arguments')"
   ]
  }
 ],
 "metadata": {
  "kernelspec": {
   "display_name": "Python 3 (ipykernel)",
   "language": "python",
   "name": "python3"
  },
  "language_info": {
   "codemirror_mode": {
    "name": "ipython",
    "version": 3
   },
   "file_extension": ".py",
   "mimetype": "text/x-python",
   "name": "python",
   "nbconvert_exporter": "python",
   "pygments_lexer": "ipython3",
   "version": "3.11.4"
  }
 },
 "nbformat": 4,
 "nbformat_minor": 5
}
